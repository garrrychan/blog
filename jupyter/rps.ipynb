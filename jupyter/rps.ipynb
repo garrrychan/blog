{
 "cells": [
  {
   "cell_type": "markdown",
   "metadata": {},
   "source": [
    "Title: My first hackathon\n",
    "Date: 2019-05-3 12:00\n",
    "Tags: python\n",
    "Slug: hackathon"
   ]
  },
  {
   "cell_type": "markdown",
   "metadata": {},
   "source": [
    "Recently, I participated in my first ever hackathon at [Bitmaker General Assembly](https://bitmaker.co/courses/data-science)! To say it was an eye opening experience would be understatement. I had to apply what I've learned so far, by combining concepts from data science and software development. Additionally, it was an exercise to work in pairs, tackle unstructured problems, and think outside the box."
   ]
  },
  {
   "cell_type": "markdown",
   "metadata": {},
   "source": [
    "---\n",
    "### The challenge\n",
    "\n",
    "Within a day, I was challenged to create a 'smart' rock, paper and scissors bot that can beat a human over 50 games. This would test my data wrangling, predictive modeling, statistics and web development skills.\n",
    "\n",
    "**Our bot must:**\n",
    "* Be built on top of a machine learning algorithm\n",
    "* Be able to prove that it's not \"peeking\" at user input (target leakage)\n",
    "* Have a flask front-end that can accept user input \n",
    "* Keep track of wins and losses\n",
    "\n",
    "**Stretch goals:**\n",
    "* An ability to switch between different \"engines\" (naive, random, hard-coded, algorithmic)\n",
    "* An ability for your bot to learn from my specific play-style and update turn-over-turn\n",
    "* Flask that's prettier than just a couple of white input boxes\n",
    "* Your bot to a hosted website on the internet, somehow, somewhere "
   ]
  },
  {
   "cell_type": "markdown",
   "metadata": {},
   "source": [
    "---\n",
    "### Creating my first web app\n",
    "\n",
    "At this point, I had minimal exposure to web development and databases, so I made the most of my current toolkit. By the end of the hackathon, my teammate and I were nearly there in creating a fully functional app. Over the past week, with the help of my instructor, I refactored and completed my first app. What a feeling! \n",
    "\n",
    "Tech stack: My web application is written in Python, built on Flask, and hosted on Heroku.\n",
    "\n",
    "There are 3 difficulties/models for you to play with.\n",
    "<table class=\"table table-striped table-responsive table-bordered\">\n",
    "<thead>\n",
    "  \n",
    "</thead>\n",
    "<tbody>\n",
    "<tr>\n",
    "<td><b>1. Easy - Naive random model</b></td>\n",
    "<td> The bot throws rock, paper, scissors with 1/3 probability each. You are expected to win about 50% of the time.</td>\n",
    "</tr>\n",
    "    \n",
    "<tr>\n",
    "<td><b>2. Medium - Deterministic (random forest) model</b></td>\n",
    "<td> The bot is trained on 450K+ previously played games. You are expected win less than 50% of the time.\n",
    "</td>\n",
    "</tr>\n",
    "\n",
    "<tr>\n",
    "<td><b>3. Hard - Stochastic (markov chain) model</b></td>\n",
    "<td> As you play more, the bot learns your specific playing style and it becomes be harder to win!\n",
    "</td>\n",
    "</tr>\n",
    "    \n",
    "</tbody>\n",
    "</table>\n",
    "\n",
    "Without further ado, here it is (hosted on Heroku, another milestone!).\n",
    "**[https://rps-bot-garry.herokuapp.com/](https://rps-bot-garry.herokuapp.com/)**\n",
    "\n",
    "Take a break and see if you can beat my bot 😉\n",
    "\n",
    "<img src=\"images/home.png\" alt=\"home\" width=\"330\" height=\"360\">\n",
    "<img src=\"images/result.png\" alt=\"result\" class=\"img-responsive\">"
   ]
  },
  {
   "cell_type": "markdown",
   "metadata": {},
   "source": [
    "---\n",
    "### Retrospective\n",
    "\n",
    "As in any hackathon, there were highs and lows, and as good software development practice, here's my reflection on this experience. "
   ]
  },
  {
   "cell_type": "markdown",
   "metadata": {},
   "source": [
    "---\n",
    "#### 🙂 What went well?\n",
    "* **Enjoying software development** - Typically, my data science work is in individual scripts on Jupyter Notebook or Atom, a text editor. By using Flask, [Flask](http://flask.pocoo.org/), a Python micro web framework, I was able to spin up a lightweight website. It was a boost of confidence to successfully write simple APIs.\n",
    "\n",
    "\n",
    "* **Creating a click-able prototype** - Learning how to create a click-able prototype is rewarding, as it prepares me for future larger projects. This app has a UI component, and provides better interactivity than a static notebook. \n",
    "\n",
    "\n",
    "* **Learning front end basics in HTML and CSS** - As Data Scientists, we should learn just enough HTML and CSS to be dangerous with simple apps showcase our models. It's important to be able to speak their language as they are able to improve the overall app. This hackathon pushed me to read and write more HTML and CSS and I'm glad I discovered OSS libraries such as [Bootstrap](https://getbootstrap.com/).\n",
    "\n",
    "\n",
    "* **Collaborating in teams** - This was my first time developing with a teammate, and we used GitHub for version control. Fortunately, there was a rough division of labour as I focused on the front end, and Flask component and she focused on the modeling. A good skill to have is to be able to perform code reviews and also merge conflicts. \n",
    "\n",
    "\n",
    "* **Creating my first functional app and deploying it on Heroku** :') <br>"
   ]
  },
  {
   "cell_type": "markdown",
   "metadata": {},
   "source": [
    "---\n",
    "#### 😐 What was confusing?\n",
    "* **Preparing the data into form ready for machine learning algorithms** - This data was not ready in its raw form, and the observations had to be grouped into what was thrown in a game, and the player's following throw. Using dictionaries, and Pandas data frame helped tackle this problem. For example, if I created a feature that required the player's previous n throws, then I would need n user throws before I would be able to make one new prediction!\n",
    "    \n",
    "    \n",
    "* **Crystalizing my understanding in Markov Chains** Markov chains are used in Bayesian statistics and implementing PyMC3. In the case of rock paper scissors, a hint was to use Markov Chain's stochastic process.\n",
    "\n",
    "> The Markov property refers to the memoryless property of a stochastic process. By definition, if the conditional probability distribution of future states of the process  depends only upon the _present state_, not on the sequence of events that preceded it.\n",
    "\n",
    "Said another way, a smart bot should be able to pick up if a player is only playing rock, after a particular scenario, and subsequently throw paper. The bot is predicting that player transitions from one state to another state with a probabilistic process.\n",
    "\n",
    "* **Wrestling with localhost, prototyping in Atom and Terminal** - Practice, practice, practice. While this is new to me, I'm appreciate prototyping in Atom and terminal more than in Jupyter notebooks. By using Hydrogen, a package on Atom, I'm able to run code interactively and 'peak' into objects in-line in real time. \n",
    "\n",
    "* **Becoming more comfortable with object oriented programming** By continuing to better understand Classes, I'm able to bundle functions together efficiently, and use methods for modifying state. <br>"
   ]
  },
  {
   "cell_type": "markdown",
   "metadata": {},
   "source": [
    "---\n",
    "#### 🙁 What was challenging?\n",
    "* **Time constraints** - During a hackathon, there's a expectation to ship code fast, and there can be feelings of self-doubt and anxiety. From this experience, I'll be better prepared to manage my time more accordingly, and also know when to take a breather to bounce ideas off teammates and ask for help as needed.\n",
    "\n",
    "\n",
    "* **Capturing a new user-generated data point, and saving it to an object to re-train the model** While I will be learning databases very soon, state wasn't a problem I had to explicitly deal with yet, but is very present in real world applications. I have to be aware of all the transformations required to feed a new data point into my model. This can be difficult even with pipelines.\n",
    "\n",
    "\n",
    "* **When your problem is a random process** - Many machine learning models which are trained on a large data set are deterministic, and may not be the right model to reach for. Instead, reach for the algorithm that is better suited for random processes, like Markov Chains.\n",
    "\n",
    "\n",
    "* **Lots of trial and error and Stack Overflow**. Compiling errors are not fun. <br>"
   ]
  },
  {
   "cell_type": "markdown",
   "metadata": {},
   "source": [
    "---\n",
    "### Quick start with Heroku\n",
    "\n",
    "Heroku is a third-party cloud hosting provider that runs your application. \n",
    "\n",
    "This was a stretch goal, but I really wanted to host my app, so I could share it! I chose Heroku because it has a free level service, is user friendly for Python apps, and comes with many tutorials. \n",
    "\n",
    "This is a quick start guide only, please see the resources below for more documentation. <br>\n",
    "\n",
    "#### Prerequisites\n",
    "- Your app is in a Git repository, such as GitHub. \n",
    "- Create a free account on [Heroku](https://www.heroku.com/) \n",
    "- Install the Heroku CLI for interacting with the service\n",
    "- Create a ```runtime.txt``` and inside the file, specify your version of Python (e.g. python-3.6.8) \n",
    "```$ python -V``` if you don't know\n",
    "- Create a ```requirements.txt```, and inside the file specify your app's dependencies\n",
    "```$ pip freeze > requirements.txt ``` Note, this lists all your dependencies, so you should scrub it for only the modules your app needs.\n",
    "- Add ```gunicorn```, the web server recommended by Heroku for Python apps\n",
    "- Create a text file named ```Procfile```, and inside the file declare the command to execute and start your web app.\n",
    "```web: gunicorn app:app``` where the first app is the module and the second app is the app function name. \n",
    "<br>"
   ]
  },
  {
   "cell_type": "markdown",
   "metadata": {},
   "source": [
    "---\n",
    "#### Commands\n",
    "1. From the terminal, login to the Heroku CLI. Enter your credentials.\n",
    "```$ heroku login```\n",
    "\n",
    "2. Navigate to your app directory, clone your application.\n",
    "```$ git clone https://github.com/garrrychan/hackathon_rps.git```\n",
    "\n",
    "3. Create an app on Heroku to receive your source code. Pass a unique application name as the argument\n",
    "```$ heroku apps:create rps-bot-garry```  \n",
    "Your URL is now live at ```https://rps-bot-garry.herokuapp.com/```\n",
    "\n",
    "4. Deploy!\n",
    "\n",
    "This is akin to pushing from local Git repo to GitHub. Push code from local repo to Heroku repo.\n",
    "- ```$ git add .```\n",
    "- ```$ git commit -m \"deploy app\"```\n",
    "- ```$ git push heroku master```\n",
    "\n",
    "And that's a wrap, you've deployed your first app onto Heroku's servers! Now visit your app @ ```https://rps-bot-garry.herokuapp.com/```"
   ]
  },
  {
   "cell_type": "markdown",
   "metadata": {},
   "source": [
    "---\n",
    "### Lessons learned\n",
    "\n",
    "1. Start small. Make a quick and dirty solution that works first.\n",
    "2. Think about new data. How will you transform a new piece of data, transform it and re-train your model?\n",
    "3. Conceptualize how to surface your model.\n",
    "\n",
    "As Data Scientists, it's important to bridge the gap to software development in order to create basic apps, in a end to end workflow. During Hackathons, in addition to my Data Science hat, I'll very likely have to think like a Designer, and Web Developer when creating a functional app!"
   ]
  },
  {
   "cell_type": "markdown",
   "metadata": {},
   "source": [
    "---\n",
    "### Resources\n",
    "* [A great primer by a Data Scientist at Twitter for building a web application](https://medium.com/@rchang/learning-how-to-build-a-web-application-c5499bd15c8f)\n",
    "* [Flask tutorial - I referenced Miguel's chapters 18 and 2 for Heroku and Templates](https://blog.miguelgrinberg.com/post/the-flask-mega-tutorial-part-xviii-deployment-on-heroku)\n",
    "* [Heroku documentation](https://devcenter.heroku.com/articles/getting-started-with-python)\n",
    "* All code for my bot is available on [GitHub](https://github.com/garrrychan/hackathon_rps)."
   ]
  }
 ],
 "metadata": {
  "kernelspec": {
   "display_name": "Python 3",
   "language": "python",
   "name": "python3"
  },
  "language_info": {
   "codemirror_mode": {
    "name": "ipython",
    "version": 3
   },
   "file_extension": ".py",
   "mimetype": "text/x-python",
   "name": "python",
   "nbconvert_exporter": "python",
   "pygments_lexer": "ipython3",
   "version": "3.6.8"
  },
  "toc": {
   "base_numbering": 1,
   "nav_menu": {},
   "number_sections": true,
   "sideBar": true,
   "skip_h1_title": false,
   "title_cell": "Table of Contents",
   "title_sidebar": "Contents",
   "toc_cell": false,
   "toc_position": {},
   "toc_section_display": true,
   "toc_window_display": false
  },
  "varInspector": {
   "cols": {
    "lenName": 16,
    "lenType": 16,
    "lenVar": 40
   },
   "kernels_config": {
    "python": {
     "delete_cmd_postfix": "",
     "delete_cmd_prefix": "del ",
     "library": "var_list.py",
     "varRefreshCmd": "print(var_dic_list())"
    },
    "r": {
     "delete_cmd_postfix": ") ",
     "delete_cmd_prefix": "rm(",
     "library": "var_list.r",
     "varRefreshCmd": "cat(var_dic_list()) "
    }
   },
   "types_to_exclude": [
    "module",
    "function",
    "builtin_function_or_method",
    "instance",
    "_Feature"
   ],
   "window_display": false
  }
 },
 "nbformat": 4,
 "nbformat_minor": 2
}
