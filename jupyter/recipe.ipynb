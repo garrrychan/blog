{
 "cells": [
  {
   "cell_type": "markdown",
   "metadata": {},
   "source": [
    "Title: What's for dinner?\n",
    "Date: 2019-05-31 12:00\n",
    "Topic: Recommender System\n",
    "Slug: recipe"
   ]
  },
  {
   "cell_type": "markdown",
   "metadata": {},
   "source": [
    "Driven by my curiousity of how Netflix, YouTube and Spotify serve personalized recommendations, I decided to learn how to create my own recommender system.\n",
    "\n",
    "**Machine Learning Problem**: Given a person’s preferences in past recipes, could I predict other new recipes they might enjoy?\n",
    "\n",
    "I created _Seasonings_, a Recipe Recommender System. The motivation behind this web app is to help users discover personalized and new recipes, and prepare for grocery runs! I received a lot early positive feedback and plan future improvements to the UX and model.\n",
    "\n",
    "I plan to use this whenever I need a jolt of inspiration in the kitchen!\n",
    "\n",
    "---"
   ]
  },
  {
   "cell_type": "markdown",
   "metadata": {
    "slideshow": {
     "slide_type": "slide"
    }
   },
   "source": [
    "### Demo\n",
    "\n",
    "All code is available on [GitHub](https://github.com/garrrychan/recipe_recommender_system).\n",
    "\n",
    "Background & [Presentation Deck](https://github.com/garrrychan/recipe_recommender_system/blob/master/presentation.pdf)"
   ]
  },
  {
   "cell_type": "markdown",
   "metadata": {},
   "source": [
    "<iframe width=\"560\" height=\"315\" src=\"https://www.youtube.com/embed/qwFbSFgZMts\" frameborder=\"0\" allow=\"accelerometer; autoplay; encrypted-media; gyroscope; picture-in-picture\" allowfullscreen></iframe>"
   ]
  },
  {
   "cell_type": "markdown",
   "metadata": {},
   "source": [
    "---\n",
    "\n",
    "### Lessons learned\n",
    "Here are some concepts I discovered while creating my Recipe Recommendation System, and may be useful for anyone building their first recommender system."
   ]
  },
  {
   "cell_type": "markdown",
   "metadata": {},
   "source": [
    "<br>\n",
    "\n",
    "#### 1. Data retrieval is not trivial\n",
    "\n",
    "While the MovieLens, and Yelp public dataset are both instructive, if you want to create a recommender system, I encourage you to reach for your own data set. \n",
    "\n",
    "To appreciate the ins-and-outs of recommender system, you need a large cross section of items and user ratings. I would implore you to gather enough data, so that you can tease out interesting results before validating its performance."
   ]
  },
  {
   "cell_type": "markdown",
   "metadata": {},
   "source": [
    "<br>\n",
    "\n",
    "#### 2. Check the results of your matrix factorization, to ensure it's over a floor baseline\n",
    "\n",
    "The main hyper-parameter of singular value decomposition (SVD) is the number of components.\n",
    "\n",
    "```svd = TruncatedSVD(n_components=100)```\n",
    "\n",
    "A rule of thumb is to use a number of components such that you retain a reasonable amount of ```svd.explained_variance_ratio_```, such as 80%-90%. \n",
    "\n",
    "While SVD provides ranked suggestions, some predicted ratings may only be a 2 or a 3. I didn't want to recommend a recipe with a predicted rating of 3, because that's below average compared to Chef John's other recipes. Therefore, I added a rule to ensure that recipes recommended were over a specific threshold >=4."
   ]
  },
  {
   "cell_type": "markdown",
   "metadata": {},
   "source": [
    "<br>\n",
    "\n",
    "#### 3. SVD performs best when the user vector is large\n",
    "\n",
    "In evaluating my model, SVD performs better when the user vector is large. This is obvious, but cannot be overstated, as my app can only take up to 20 recipe ratings during the onboarding flow. In full recommender systems, ratings are continually updated from subsequent sessions, which is why Netflix _learns_ your preferences the more you use it!\n",
    "\n",
    "Also, as a corollary, SVD generally performed better for users with less ratings, as it was able to recommend new recipes. Nevertheless, it was useful to train the model, such that the decomposed matrix $M$ could be used on new user matrix $U$."
   ]
  },
  {
   "cell_type": "markdown",
   "metadata": {},
   "source": [
    "<br>\n",
    "\n",
    "#### 4. Balance between prediction, and novelty\n",
    "\n",
    "Users turn to recommendations for not only recipes that are homogeneous to their preferences, but also for serendipitous recipes they might not immediately think of. In my opinion, it's a strength to make content discovery less algorithmic, and more human-like.\n",
    "\n",
    "Hybrid recommenders address this problem by solving the shortcomings of individual recommenders.\n",
    "For example:\n",
    "<ul>\n",
    "  <li>Content-based recommenders address the cold start problem</li>\n",
    "  <li>Collaborative filtering is prone to recommending recipes with less ratings, but I see that as a positive to inject new recipes</li>\n",
    "  <li>Matrix factorization address curse of dimensionality, when no recipes or users are similar to each other </li>\n",
    "</ul>\n",
    "\n",
    "It's no surprised that the algorithm that won Cinematch (Netflix's challenge), used an ensemble of multiple models. Hybrid recommenders can get very complex, with feature weighted linear stacking of the various recommenders, but that was out of scope for my first recommender system."
   ]
  },
  {
   "cell_type": "markdown",
   "metadata": {},
   "source": [
    "<br>\n",
    "\n",
    "#### 5. Rank-based evaluation metrics are preferred\n",
    "\n",
    "For recommender systems, rank based metrics are preferred over RMSE or accuracy. At the end of the day, it's about recommending new recipes that my user will like, in a ranked fashion, over predicting the exact rating.\n",
    "\n",
    "I leaned on precision at K and recall at K, and these metrics were higher when the user had more than 3 ratings."
   ]
  },
  {
   "cell_type": "markdown",
   "metadata": {},
   "source": [
    "--- \n",
    "\n",
    "I had a lot of fun building this, and I gained a greater appreciation of what's going on underneath the hood of all the recommender systems I see on a daily basis. YouTube, please keep recommending me cute cat videos!"
   ]
  }
 ],
 "metadata": {
  "kernelspec": {
   "display_name": "Python 3",
   "language": "python",
   "name": "python3"
  },
  "language_info": {
   "codemirror_mode": {
    "name": "ipython",
    "version": 3
   },
   "file_extension": ".py",
   "mimetype": "text/x-python",
   "name": "python",
   "nbconvert_exporter": "python",
   "pygments_lexer": "ipython3",
   "version": "3.6.8"
  },
  "toc": {
   "base_numbering": 1,
   "nav_menu": {},
   "number_sections": true,
   "sideBar": true,
   "skip_h1_title": false,
   "title_cell": "Table of Contents",
   "title_sidebar": "Contents",
   "toc_cell": false,
   "toc_position": {},
   "toc_section_display": true,
   "toc_window_display": true
  },
  "varInspector": {
   "cols": {
    "lenName": 16,
    "lenType": 16,
    "lenVar": 40
   },
   "kernels_config": {
    "python": {
     "delete_cmd_postfix": "",
     "delete_cmd_prefix": "del ",
     "library": "var_list.py",
     "varRefreshCmd": "print(var_dic_list())"
    },
    "r": {
     "delete_cmd_postfix": ") ",
     "delete_cmd_prefix": "rm(",
     "library": "var_list.r",
     "varRefreshCmd": "cat(var_dic_list()) "
    }
   },
   "types_to_exclude": [
    "module",
    "function",
    "builtin_function_or_method",
    "instance",
    "_Feature"
   ],
   "window_display": false
  }
 },
 "nbformat": 4,
 "nbformat_minor": 2
}
