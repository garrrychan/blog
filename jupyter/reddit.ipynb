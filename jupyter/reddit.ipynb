{
 "cells": [
  {
   "cell_type": "markdown",
   "metadata": {},
   "source": [
    "Title: Can machines pick up sarcasm?\n",
    "Date: 2019-05-12 12:00\n",
    "Topic: Natural Language Processing\n",
    "Slug: reddit"
   ]
  },
  {
   "cell_type": "markdown",
   "metadata": {},
   "source": [
    "What's the difference between a life pro tip, and one that is a bit more questionable? This can be sometimes a subtle difference, or a moral grey area to distinguish, even for humans.  \n",
    "\n",
    "Life Pro Tip: \n",
    "> A concise and specific tip that improves life for you and those around you in a specific and significant way.\n",
    "\n",
    "<br>\n",
    "\n",
    "_Example_: \"If you want to learn a new language, figure out the 100 most frequently used words and start with them. Those words make up about 50% of everyday speech, and should be a very solid basis.\"\n",
    "\n",
    "> An Unethical Life Pro Tip is a tip that improves your life in a meaningful way, perhaps at the expense of others and/or with questionable legality. Due to their nature, do not actually follow any of these tips–they're just for fun. \n",
    "\n",
    "<br>\n",
    "\n",
    "Example: \"Save business cards of people you don't like. If you ever hit a parked car accidentally, just write \"sorry\" on the back and leave it on the windshield.\"\n",
    "\n",
    "Let's collect posts (web scrap) from 2 subreddits, and create a machine learning model using Natural Langauge Processing (NLP) to classify which subreddit a particular post belongs too. Can my model pick up on sarcasm, internet 'trolling', or tongue-in-cheek semantic of sentences? Probably not, but let's try. I hope you have as much fun playing with this, as I did making it. \n",
    "\n",
    "If you're feeling lucky, visit my app for a [Life Pro Tip](https://nlp-reddit-garry.herokuapp.com)!"
   ]
  },
  {
   "cell_type": "markdown",
   "metadata": {},
   "source": [
    "---\n",
    "\n",
    "### Reddit API \n",
    "\n",
    "Fortunately, Reddit provides a public JSON end point, so we can easily consume that format, and manipulate it a Pandas DataFrame. Simply add `.json` at the end of the URL.\n",
    "\n",
    "If you plan to run your own `get` requests, keep in mind that Reddit has a limit of 25 posts / request. In conjunction with `for` loop, write a `time.sleep()` function in Python (or something equivalent) to avoid a 429 Too Many Requests error. \n",
    "\n"
   ]
  },
  {
   "cell_type": "markdown",
   "metadata": {},
   "source": [
    "#### Data dictionary\n",
    "\n",
    "We are interested in the following features:\n",
    "\n",
    "<table class=\"table table-responsive table-bordered\">\n",
    "<thead>\n",
    "</thead>\n",
    "<tbody>\n",
    "<tr>\n",
    "<td><b>Target variable, y </b></td>\n",
    "<td> <p> subreddit (str) </p> </td>\n",
    "</tr>\n",
    "    \n",
    "<tr>\n",
    "<td><b>Design matrix, X </b></td>\n",
    "<td> \n",
    "<p>title (str)</p>\n",
    "<p>score (int)</p>\n",
    "<p>num_comments (int)</p>\n",
    "<p>author (int)</p>\n",
    "<p>name (int)</p>\n",
    "</ul>\n",
    "</td></tr>   \n",
    "\n",
    "</tbody>\n",
    "</table>"
   ]
  },
  {
   "cell_type": "markdown",
   "metadata": {},
   "source": [
    "--- \n",
    "### Pre-processing data\n",
    "\n",
    "\n",
    "First, I have to pre-process the data, and use natural language processing packages to tokenize strings to individual words. We will be using Python's Natural Language Toolkit (nltk) package.\n",
    "\n",
    "Follow along if you want to create your own classifier, otherwise, skip to the results. All code is available on [GitHub](https://github.com/garrrychan/nlp_reddit). Refer to `reddit_garry.py` for scraping."
   ]
  },
  {
   "cell_type": "code",
   "execution_count": 1,
   "metadata": {},
   "outputs": [],
   "source": [
    "import pandas as pd\n",
    "import numpy as np\n",
    "import re\n",
    "import nltk\n",
    "from nltk.tokenize import RegexpTokenizer\n",
    "from nltk.corpus import stopwords\n",
    "from sklearn.model_selection import train_test_split\n",
    "from sklearn.feature_extraction.text import CountVectorizer, TfidfVectorizer\n",
    "from nltk.stem import WordNetLemmatizer\n",
    "from sklearn.preprocessing import LabelEncoder, StandardScaler, LabelBinarizer\n",
    "from sklearn_pandas import DataFrameMapper\n",
    "from sklearn.naive_bayes import MultinomialNB\n",
    "from sklearn.model_selection import GridSearchCV \n",
    "from sklearn.linear_model import LogisticRegression\n",
    "from sklearn import svm\n",
    "from sklearn.exceptions import DataConversionWarning\n",
    "import warnings\n",
    "warnings.filterwarnings(action='ignore', category=DataConversionWarning)\n",
    "warnings.filterwarnings(action='ignore', category=FutureWarning) \n",
    "np.set_printoptions(suppress=True)\n",
    "pd.set_option('display.max_colwidth', -1)\n",
    "from IPython.display import HTML"
   ]
  },
  {
   "cell_type": "code",
   "execution_count": 2,
   "metadata": {
    "scrolled": true
   },
   "outputs": [],
   "source": [
    "# encoding utf-8 for special characters\n",
    "raw_lpt = pd.read_csv(\"./data/lpt.csv\", encoding='utf-8')\n",
    "raw_ulpt = pd.read_csv(\"./data/ulpt.csv\", encoding='utf-8')"
   ]
  },
  {
   "cell_type": "markdown",
   "metadata": {},
   "source": [
    "Merge, train, test split data. \n",
    "\n",
    "Notice how there is \"ULPT\" or \"LPT\" in the title, which is clearly target leakage. To prevent target leakage in the title, I will use regular expressions (Regex) to match permutations of LPT, lpt, ULPT, ulpt and remove."
   ]
  },
  {
   "cell_type": "code",
   "execution_count": 63,
   "metadata": {},
   "outputs": [
    {
     "data": {
      "text/html": [
       "<table border=\"1\" class=\"dataframe table table-responsive table-striped table-bordered\">\n",
       "  <thead>\n",
       "    <tr style=\"text-align: right;\">\n",
       "      <th></th>\n",
       "      <th>author</th>\n",
       "      <th>name</th>\n",
       "      <th>num_comments</th>\n",
       "      <th>score</th>\n",
       "      <th>subreddit</th>\n",
       "      <th>title</th>\n",
       "    </tr>\n",
       "  </thead>\n",
       "  <tbody>\n",
       "    <tr>\n",
       "      <th>1002</th>\n",
       "      <td>socialist111</td>\n",
       "      <td>t3_abeced</td>\n",
       "      <td>503</td>\n",
       "      <td>24466</td>\n",
       "      <td>UnethicalLifeProTips</td>\n",
       "      <td>ULPT: Give fake money to homeless people. They will thank you for it, but also when they get arrested and taken to jail, it?ll reduce the number of homeless people in your area.</td>\n",
       "    </tr>\n",
       "    <tr>\n",
       "      <th>1375</th>\n",
       "      <td>Aukliminu</td>\n",
       "      <td>t3_ab4d3d</td>\n",
       "      <td>199</td>\n",
       "      <td>7180</td>\n",
       "      <td>UnethicalLifeProTips</td>\n",
       "      <td>ULPT: Leave bad Amazon reviews on items you buy or any applicable cheap knockoff brands. They might pay you to delete the review.</td>\n",
       "    </tr>\n",
       "  </tbody>\n",
       "</table>"
      ],
      "text/plain": [
       "<IPython.core.display.HTML object>"
      ]
     },
     "execution_count": 63,
     "metadata": {},
     "output_type": "execute_result"
    }
   ],
   "source": [
    "df = pd.merge(raw_lpt, raw_ulpt, how='outer')\n",
    "HTML(df.sample(2).to_html(classes=\"table table-responsive table-striped table-bordered\"))"
   ]
  },
  {
   "cell_type": "code",
   "execution_count": 4,
   "metadata": {},
   "outputs": [],
   "source": [
    "y = df.subreddit\n",
    "X = df.drop([\"subreddit\",'name'],axis=1) # drop name, it's a unique identifier, not predictive\n",
    "X_train, X_test, y_train, y_test = train_test_split(X, y, random_state=42)"
   ]
  },
  {
   "cell_type": "code",
   "execution_count": 5,
   "metadata": {},
   "outputs": [],
   "source": [
    "def post_to_words(raw_post):\n",
    "    '''Returns a list of words ready for classification, by tokenizing,\n",
    "    removing punctuation, setting to lower case and removing stop words.'''\n",
    "    tokenizer = RegexpTokenizer(r'[a-z]+')\n",
    "    words = tokenizer.tokenize(raw_post.lower())\n",
    "    meaningful_words = [w for w in words if not w in set(stopwords.words('english'))]\n",
    "    return(\" \".join(meaningful_words))"
   ]
  },
  {
   "cell_type": "code",
   "execution_count": 49,
   "metadata": {
    "scrolled": true
   },
   "outputs": [],
   "source": [
    "X_train.loc[:,\"title_clean\"] = X_train[\"title\"].apply(lambda row : re.sub(r\"[uU]*[lL][pP][tT]\\s*:*\", '', row)).apply(lambda row: post_to_words(row))"
   ]
  },
  {
   "cell_type": "code",
   "execution_count": 7,
   "metadata": {},
   "outputs": [],
   "source": [
    "# for humans\n",
    "X_test.loc[:,\"title_read\"] = X_test[\"title\"].apply(lambda row : re.sub(r\"[uU]*[lL][pP][tT]\\s*:*\", '', row))"
   ]
  },
  {
   "cell_type": "code",
   "execution_count": 8,
   "metadata": {},
   "outputs": [],
   "source": [
    "# for model\n",
    "X_test.loc[:,\"title_clean\"] = X_test[\"title_read\"].apply(lambda row: post_to_words(row))"
   ]
  },
  {
   "cell_type": "markdown",
   "metadata": {},
   "source": [
    "---\n",
    "### Modeling"
   ]
  },
  {
   "cell_type": "markdown",
   "metadata": {},
   "source": [
    "#### CountVectorizer\n",
    "\n",
    "Let's start simple. CountVectorizer is a bag of words model processes text by ignoring structure of a sentences and merely assesses the count of specific words, or word combinations."
   ]
  },
  {
   "cell_type": "code",
   "execution_count": 9,
   "metadata": {},
   "outputs": [],
   "source": [
    "def my_vectorizer(vectorizer,X_train,X_test,y_train,y_test,stop=None):\n",
    "    '''Takes a vectorizer, fits the model, learns the vocabulary,\n",
    "    transforms data and returns the transformed matrices'''\n",
    "    # transform text\n",
    "    vect = vectorizer(stop_words=stop) \n",
    "    train_data_features = vect.fit_transform(X_train.title_clean)\n",
    "    test_data_features = vect.transform(X_test.title_clean)\n",
    "    le = LabelEncoder()\n",
    "    target_train = le.fit_transform(y_train)\n",
    "    target_test = le.transform(y_test)\n",
    "    \n",
    "    # transform non text\n",
    "    mapper = DataFrameMapper([\n",
    "    (\"author\", LabelBinarizer()),\n",
    "    ([\"num_comments\"], StandardScaler()),\n",
    "    ([\"score\"], StandardScaler())], df_out=True)\n",
    "    Z_train = mapper.fit_transform(X_train)\n",
    "    Z_test = mapper.transform(X_test)\n",
    "    print(f' Training set learned {train_data_features.shape[1]} distinct vocabulary')\n",
    "    print(f' Remember: 0 -> {le.classes_[0]}, 1 -> {le.classes_[1]}')\n",
    "    \n",
    "    # Baseline model\n",
    "    print(f' Baseline model that guessed all LPT -> {round(1-sum(target_test)/len(target_test),2)} accurate')\n",
    "    \n",
    "    # Combine both df columns together\n",
    "    a = pd.DataFrame(train_data_features.todense())\n",
    "    b = Z_train\n",
    "    c = pd.DataFrame(test_data_features.todense())\n",
    "    d = Z_test\n",
    "\n",
    "    # reset indices in order to merge\n",
    "    a = a.reset_index().drop(\"index\",axis=1)\n",
    "    b = b.reset_index().drop(\"index\",axis=1)\n",
    "    c = c.reset_index().drop(\"index\",axis=1)\n",
    "    d = d.reset_index().drop(\"index\",axis=1)\n",
    "    \n",
    "    Z_train = pd.merge(a,b, left_index=True, right_index=True)\n",
    "    Z_test = pd.merge(c,d, left_index=True, right_index=True)\n",
    "    return (Z_train, Z_test, target_train, target_test)"
   ]
  },
  {
   "cell_type": "markdown",
   "metadata": {},
   "source": [
    "---\n",
    "#### Classification\n",
    "\n",
    "With my data ready in array format, I can now apply binary classifiers. I'll try:\n",
    "\n",
    "<ul>\n",
    "<li>Logistic Regression</li>\n",
    "<li>Naive Bayes Multinomial</li>\n",
    "<li>Support Vector Machine</li>\n",
    "</ul>"
   ]
  },
  {
   "cell_type": "code",
   "execution_count": 66,
   "metadata": {
    "scrolled": true
   },
   "outputs": [
    {
     "name": "stdout",
     "output_type": "stream",
     "text": [
      " Training set learned 5104 distinct vocabulary\n",
      " Remember: 0 -> LifeProTips, 1 -> UnethicalLifeProTips\n",
      " Baseline model that guessed all LPT -> 0.5 accurate\n"
     ]
    }
   ],
   "source": [
    "my_tuple = my_vectorizer(CountVectorizer,X_train,X_test,y_train,y_test,stop='english')\n",
    "Z_train = my_tuple[0]\n",
    "Z_test = my_tuple[1]\n",
    "target_train = my_tuple[2]\n",
    "target_test = my_tuple[3]"
   ]
  },
  {
   "cell_type": "code",
   "execution_count": 64,
   "metadata": {},
   "outputs": [],
   "source": [
    "def results(model):\n",
    "    '''Return a sample of 5 wrong predictions'''\n",
    "    model.fit(Z_train, target_train)\n",
    "    print(f' Training accuracy: {model.score(Z_train, target_train)}')\n",
    "    print(f' Test accuracy: {model.score(Z_test, target_test)}')\n",
    "    predictions = model.predict(Z_test)\n",
    "    predictions = np.where(predictions==0,\"LifeProTips\",\"UnethicalLifeProTips\")\n",
    "    final = pd.DataFrame(list(zip(predictions, y_test, X_test.title_read, X_test.num_comments, X_test.score)), columns=['prediction', 'label', 'title', \"num_comments\", \"score\"])   \n",
    "    wrong = final[final.prediction!=final.label] \n",
    "    return HTML(wrong.sample(2).to_html(classes=\"table table-responsive table-striped table-bordered\"))"
   ]
  },
  {
   "cell_type": "code",
   "execution_count": 67,
   "metadata": {
    "scrolled": true
   },
   "outputs": [
    {
     "name": "stdout",
     "output_type": "stream",
     "text": [
      " Training accuracy: 0.9993021632937893\n",
      " Test accuracy: 0.895397489539749\n"
     ]
    },
    {
     "data": {
      "text/html": [
       "<table border=\"1\" class=\"dataframe table table-responsive table-striped table-bordered\">\n",
       "  <thead>\n",
       "    <tr style=\"text-align: right;\">\n",
       "      <th></th>\n",
       "      <th>prediction</th>\n",
       "      <th>label</th>\n",
       "      <th>title</th>\n",
       "      <th>num_comments</th>\n",
       "      <th>score</th>\n",
       "    </tr>\n",
       "  </thead>\n",
       "  <tbody>\n",
       "    <tr>\n",
       "      <th>252</th>\n",
       "      <td>UnethicalLifeProTips</td>\n",
       "      <td>LifeProTips</td>\n",
       "      <td>If you are a parent, record a video message for your children even if you're perfectly healthy.</td>\n",
       "      <td>824</td>\n",
       "      <td>11279</td>\n",
       "    </tr>\n",
       "    <tr>\n",
       "      <th>191</th>\n",
       "      <td>LifeProTips</td>\n",
       "      <td>UnethicalLifeProTips</td>\n",
       "      <td>Own two guns. A nice one, registered, and a shitty unregistered handgun</td>\n",
       "      <td>1169</td>\n",
       "      <td>7145</td>\n",
       "    </tr>\n",
       "  </tbody>\n",
       "</table>"
      ],
      "text/plain": [
       "<IPython.core.display.HTML object>"
      ]
     },
     "execution_count": 67,
     "metadata": {},
     "output_type": "execute_result"
    }
   ],
   "source": [
    "results(LogisticRegression())"
   ]
  },
  {
   "cell_type": "code",
   "execution_count": 39,
   "metadata": {},
   "outputs": [],
   "source": [
    "log_model = LogisticRegression()\n",
    "log_model.fit(Z_train, target_train);"
   ]
  },
  {
   "cell_type": "markdown",
   "metadata": {},
   "source": [
    "These two were incorrectly classified, because the num_comments might have thrown it off. These are not your typical posts, but by moderators.\n",
    "\n",
    "Let's look at the largest coefficients that correspond to num_comments (col 6452), score (col 6453), column 576, 4945 & 3125, and peak into the words. "
   ]
  },
  {
   "cell_type": "code",
   "execution_count": 40,
   "metadata": {
    "scrolled": false
   },
   "outputs": [
    {
     "data": {
      "text/html": [
       "<div>\n",
       "<style scoped>\n",
       "    .dataframe tbody tr th:only-of-type {\n",
       "        vertical-align: middle;\n",
       "    }\n",
       "\n",
       "    .dataframe tbody tr th {\n",
       "        vertical-align: top;\n",
       "    }\n",
       "\n",
       "    .dataframe thead th {\n",
       "        text-align: right;\n",
       "    }\n",
       "</style>\n",
       "<table border=\"1\" class=\"dataframe\">\n",
       "  <thead>\n",
       "    <tr style=\"text-align: right;\">\n",
       "      <th></th>\n",
       "      <th>x</th>\n",
       "      <th>coef</th>\n",
       "    </tr>\n",
       "  </thead>\n",
       "  <tbody>\n",
       "    <tr>\n",
       "      <th>6354</th>\n",
       "      <td>num_comments</td>\n",
       "      <td>4.33</td>\n",
       "    </tr>\n",
       "    <tr>\n",
       "      <th>6355</th>\n",
       "      <td>score</td>\n",
       "      <td>1.83</td>\n",
       "    </tr>\n",
       "    <tr>\n",
       "      <th>576</th>\n",
       "      <td>576</td>\n",
       "      <td>1.11</td>\n",
       "    </tr>\n",
       "    <tr>\n",
       "      <th>4945</th>\n",
       "      <td>4945</td>\n",
       "      <td>1.05</td>\n",
       "    </tr>\n",
       "    <tr>\n",
       "      <th>3125</th>\n",
       "      <td>3125</td>\n",
       "      <td>1.03</td>\n",
       "    </tr>\n",
       "  </tbody>\n",
       "</table>\n",
       "</div>"
      ],
      "text/plain": [
       "                 x  coef\n",
       "6354  num_comments 4.33 \n",
       "6355  score        1.83 \n",
       "576   576          1.11 \n",
       "4945  4945         1.05 \n",
       "3125  3125         1.03 "
      ]
     },
     "execution_count": 40,
     "metadata": {},
     "output_type": "execute_result"
    }
   ],
   "source": [
    "pd.options.display.float_format = '{:.2f}'.format\n",
    "my_coef = pd.DataFrame(list(zip(Z_train.columns,abs(log_model.coef_[0]))),columns=[\"x\",\"coef\"]).sort_values(by=\"coef\",ascending=False)\n",
    "my_coef.head()"
   ]
  },
  {
   "cell_type": "code",
   "execution_count": 44,
   "metadata": {
    "scrolled": true
   },
   "outputs": [
    {
     "data": {
      "text/html": [
       "<table border=\"1\" class=\"dataframe table table-responsive table-striped table-bordered\">\n",
       "  <thead>\n",
       "    <tr style=\"text-align: right;\">\n",
       "      <th></th>\n",
       "      <th>x</th>\n",
       "      <th>coef</th>\n",
       "    </tr>\n",
       "  </thead>\n",
       "  <tbody>\n",
       "    <tr>\n",
       "      <th>576</th>\n",
       "      <td>576</td>\n",
       "      <td>1.11</td>\n",
       "    </tr>\n",
       "    <tr>\n",
       "      <th>3125</th>\n",
       "      <td>3125</td>\n",
       "      <td>1.03</td>\n",
       "    </tr>\n",
       "    <tr>\n",
       "      <th>4945</th>\n",
       "      <td>4945</td>\n",
       "      <td>1.05</td>\n",
       "    </tr>\n",
       "    <tr>\n",
       "      <th>6354</th>\n",
       "      <td>num_comments</td>\n",
       "      <td>-4.33</td>\n",
       "    </tr>\n",
       "    <tr>\n",
       "      <th>6355</th>\n",
       "      <td>score</td>\n",
       "      <td>-1.83</td>\n",
       "    </tr>\n",
       "  </tbody>\n",
       "</table>"
      ],
      "text/plain": [
       "<IPython.core.display.HTML object>"
      ]
     },
     "execution_count": 44,
     "metadata": {},
     "output_type": "execute_result"
    }
   ],
   "source": [
    "my_coef = pd.DataFrame(list(zip(Z_train.columns,log_model.coef_[0])),columns=[\"x\",\"coef\"])\n",
    "large_coef = my_coef[(my_coef[\"x\"]==\"num_comments\") | (my_coef[\"x\"]==\"score\") | (my_coef[\"x\"]==576) | (my_coef[\"x\"]==4945) | (my_coef[\"x\"]==3125)] \n",
    "HTML(large_coef.to_html(classes=\"table table-responsive table-striped table-bordered\"))"
   ]
  },
  {
   "cell_type": "code",
   "execution_count": 42,
   "metadata": {},
   "outputs": [],
   "source": [
    "cvect = CountVectorizer(stop_words='english') \n",
    "train_data_features = cvect.fit_transform(X_train.title_clean)"
   ]
  },
  {
   "cell_type": "code",
   "execution_count": 48,
   "metadata": {},
   "outputs": [
    {
     "name": "stdout",
     "output_type": "stream",
     "text": [
      " business: 3.03x\n",
      " want: 2.8x\n",
      " pitched: 2.86x\n"
     ]
    }
   ],
   "source": [
    "print(f' {cvect.get_feature_names()[576]}: {round(np.exp(1.11),2)}x')\n",
    "print(f' {cvect.get_feature_names()[4945]}: {round(np.exp(1.03),2)}x')\n",
    "print(f' {cvect.get_feature_names()[3215]}: {round(np.exp(1.05),2)}x')"
   ]
  },
  {
   "cell_type": "code",
   "execution_count": 46,
   "metadata": {},
   "outputs": [
    {
     "data": {
      "text/plain": [
       "'If the number of comments increases by 1, the likelihood of being an Unethical Life Pro Tip is 0.01x more likely.'"
      ]
     },
     "execution_count": 46,
     "metadata": {},
     "output_type": "execute_result"
    }
   ],
   "source": [
    "f'If the number of comments increases by 1, the likelihood of being an Unethical Life Pro Tip is {round(np.exp(-4.33),2)}x more likely.'"
   ]
  },
  {
   "cell_type": "code",
   "execution_count": 45,
   "metadata": {},
   "outputs": [
    {
     "data": {
      "text/plain": [
       "'If the score (upvotes - downvotes) increases by 1, the likelihood of being an Unethical Life Pro Tip is 0.16x more likely.'"
      ]
     },
     "execution_count": 45,
     "metadata": {},
     "output_type": "execute_result"
    }
   ],
   "source": [
    "f'If the score (upvotes - downvotes) increases by 1, the likelihood of being an Unethical Life Pro Tip is {round(np.exp(-1.83),2)}x more likely.'"
   ]
  },
  {
   "cell_type": "markdown",
   "metadata": {},
   "source": [
    "This is really performant off the bat with 99.9% training accuracy and 89.5% test accuracy. Yes, there is overfitting but it's picking up signal, in the text.\n",
    "\n",
    "There's many more false positives than false negatives. One could argue, false positives are not as bad as false negatives since you don't want to heed the advice of a bad tip, but if you miss a life pro tip, it's not as damaging. If we wanted to be more strict, we could tweak the threshold such that only predictions > 75% would be classified as UnethicalLifeProTip.\n",
    "\n",
    "\"Give the same perfume to your wife and your girlfriend. It could save your ass one day.\" 🙅🏻‍♂️ - _Not a Life Pro Tip_ but was predicted a _Pro Tip_ \n",
    "\n",
    "* The more 'popular' i.e. more comments and score, the great likelihood that it is unethical. Controversial posts tend to gain more popularity.\n",
    " \n",
    "* In this training set, if your document includes the word 'business', then the likelihood of being unethical is far more likely by 3x. There's probably a lot of unethical comments around taking advantage of businesses!"
   ]
  },
  {
   "cell_type": "markdown",
   "metadata": {},
   "source": [
    "---\n",
    "#### Term Frequency Inverse Document Frequency (TF-IDF)"
   ]
  },
  {
   "cell_type": "markdown",
   "metadata": {},
   "source": [
    "Compared to CountVectorizer, TF-IDF vectorizer tells us which words are most discriminating between documents.\n",
    "Words that occur often in one document but don't occur in many documents are important and contain a great deal of discriminating power. Note, TF-IDF figures are between [0,1]. The score is based on how often a word is compared in your document (spam) and other documents."
   ]
  },
  {
   "cell_type": "code",
   "execution_count": 68,
   "metadata": {},
   "outputs": [
    {
     "name": "stdout",
     "output_type": "stream",
     "text": [
      " Training set learned 5104 distinct vocabulary\n",
      " Remember: 0 -> LifeProTips, 1 -> UnethicalLifeProTips\n",
      " Baseline model that guessed all LPT -> 0.5 accurate\n"
     ]
    }
   ],
   "source": [
    "my_tuple = my_vectorizer(TfidfVectorizer,X_train,X_test,y_train,y_test,stop='english')\n",
    "Z_train = my_tuple[0]\n",
    "Z_test = my_tuple[1]\n",
    "target_train = my_tuple[2]\n",
    "target_test = my_tuple[3]"
   ]
  },
  {
   "cell_type": "code",
   "execution_count": 69,
   "metadata": {},
   "outputs": [
    {
     "name": "stdout",
     "output_type": "stream",
     "text": [
      " Training accuracy: 0.9567341242149338\n",
      " Test accuracy: 0.8535564853556485\n"
     ]
    },
    {
     "data": {
      "text/html": [
       "<table border=\"1\" class=\"dataframe table table-responsive table-striped table-bordered\">\n",
       "  <thead>\n",
       "    <tr style=\"text-align: right;\">\n",
       "      <th></th>\n",
       "      <th>prediction</th>\n",
       "      <th>label</th>\n",
       "      <th>title</th>\n",
       "      <th>num_comments</th>\n",
       "      <th>score</th>\n",
       "    </tr>\n",
       "  </thead>\n",
       "  <tbody>\n",
       "    <tr>\n",
       "      <th>435</th>\n",
       "      <td>LifeProTips</td>\n",
       "      <td>UnethicalLifeProTips</td>\n",
       "      <td>Having an affair? Change your lover's contact name in your phone to \"Scam Likely,\" so your primary partner won't question why you're getting so many calls.</td>\n",
       "      <td>637</td>\n",
       "      <td>20447</td>\n",
       "    </tr>\n",
       "    <tr>\n",
       "      <th>241</th>\n",
       "      <td>UnethicalLifeProTips</td>\n",
       "      <td>LifeProTips</td>\n",
       "      <td>Always be gracious when friends or classmates get jobs you both applied to, they might be in a position to hire you in the future</td>\n",
       "      <td>522</td>\n",
       "      <td>17866</td>\n",
       "    </tr>\n",
       "  </tbody>\n",
       "</table>"
      ],
      "text/plain": [
       "<IPython.core.display.HTML object>"
      ]
     },
     "execution_count": 69,
     "metadata": {},
     "output_type": "execute_result"
    }
   ],
   "source": [
    "results(LogisticRegression())"
   ]
  },
  {
   "cell_type": "markdown",
   "metadata": {},
   "source": [
    "Test accuracy decreases to 85.4% which is lower than CountVectorizer. There are probably not as many discriminating words. Common words are helpful in distinguishing between the two classes. Words of high frequency that are predictive of one of the classes.\n",
    "\n",
    "It's not entire clear which words are the most influential, some words might indicate sarcasm. Overall, it's impressive that a logistic regression model is so powerful already, let's try a few more algorithms."
   ]
  },
  {
   "cell_type": "markdown",
   "metadata": {},
   "source": [
    "---\n",
    "#### Naive Bayes Classifier\n",
    "The multinomial Naive Bayes classifier is appropriate for classification with discrete features (e.g., word counts for text classification), as the columns of X are all integer counts.\n",
    "\n",
    "Note, this classifier accepts only positive values so I have run the abs function on my scaled features. While I have the option to add a prior, I have opted to have Sklearn estimate from training data directly. I don't have a strong opinion if a particular post is in one subreddit over the other. "
   ]
  },
  {
   "cell_type": "code",
   "execution_count": 70,
   "metadata": {},
   "outputs": [
    {
     "name": "stdout",
     "output_type": "stream",
     "text": [
      " Training accuracy: 0.9951151430565248\n",
      " Test accuracy: 0.805439330543933\n"
     ]
    },
    {
     "data": {
      "text/html": [
       "<table border=\"1\" class=\"dataframe table table-responsive table-striped table-bordered\">\n",
       "  <thead>\n",
       "    <tr style=\"text-align: right;\">\n",
       "      <th></th>\n",
       "      <th>prediction</th>\n",
       "      <th>label</th>\n",
       "      <th>title</th>\n",
       "      <th>num_comments</th>\n",
       "      <th>score</th>\n",
       "    </tr>\n",
       "  </thead>\n",
       "  <tbody>\n",
       "    <tr>\n",
       "      <th>142</th>\n",
       "      <td>LifeProTips</td>\n",
       "      <td>UnethicalLifeProTips</td>\n",
       "      <td>Server ignoring you hardcore when you?re trying to get your check and pay the bill? Drop a glass/plate onto the floor, the shattering glass will bring them to your table instantly.</td>\n",
       "      <td>405</td>\n",
       "      <td>9678</td>\n",
       "    </tr>\n",
       "    <tr>\n",
       "      <th>183</th>\n",
       "      <td>UnethicalLifeProTips</td>\n",
       "      <td>LifeProTips</td>\n",
       "      <td>when making rice, just throw some broccoli on top when there is like 10mins left, it'll be perfectly steamed at the end and is a super easy way to add some nutrition with virtually zero extra work!</td>\n",
       "      <td>1435</td>\n",
       "      <td>18783</td>\n",
       "    </tr>\n",
       "  </tbody>\n",
       "</table>"
      ],
      "text/plain": [
       "<IPython.core.display.HTML object>"
      ]
     },
     "execution_count": 70,
     "metadata": {},
     "output_type": "execute_result"
    }
   ],
   "source": [
    "model = MultinomialNB()\n",
    "Z_train = my_tuple[0]\n",
    "Z_test = my_tuple[1]\n",
    "target_train = my_tuple[2]\n",
    "target_test = my_tuple[3]\n",
    "\n",
    "Z_train.num_comments = abs(Z_train.num_comments)\n",
    "Z_train.score = abs(Z_train.score)\n",
    "model.fit(Z_train, target_train)\n",
    "\n",
    "print(f' Training accuracy: {model.score(Z_train, target_train)}')\n",
    "print(f' Test accuracy: {model.score(Z_test, target_test)}')\n",
    "\n",
    "predictions = model.predict(Z_test)\n",
    "predictions = np.where(predictions==0,\"LifeProTips\",\"UnethicalLifeProTips\")\n",
    "final = pd.DataFrame(list(zip(predictions, y_test, X_test.title_read, X_test.num_comments, X_test.score)), columns=['prediction', 'label', 'title', \"num_comments\", \"score\"])\n",
    "wrong = final[final.prediction!=final.label] \n",
    "HTML(wrong.sample(2).to_html(classes=\"table table-responsive table-striped table-bordered\"))"
   ]
  },
  {
   "cell_type": "code",
   "execution_count": 71,
   "metadata": {},
   "outputs": [
    {
     "name": "stdout",
     "output_type": "stream",
     "text": [
      "[[167  74]\n",
      " [ 19 218]]\n",
      "True Negatives: 167\n",
      "False Positives: 74\n",
      "False Negatives: 19\n",
      "True Positives: 218\n"
     ]
    }
   ],
   "source": [
    "from sklearn.metrics import confusion_matrix\n",
    "predictions = model.predict(my_tuple[1])\n",
    "print(confusion_matrix(my_tuple[3], predictions))\n",
    "tn, fp, fn, tp = confusion_matrix(my_tuple[3], predictions).ravel()\n",
    "print(\"True Negatives: %s\" % tn)\n",
    "print(\"False Positives: %s\" % fp)\n",
    "print(\"False Negatives: %s\" % fn)\n",
    "print(\"True Positives: %s\" % tp)"
   ]
  },
  {
   "cell_type": "markdown",
   "metadata": {},
   "source": [
    "While Naive Bayes also has a high training accuracy, it is severely overfitting. In this case, there are more false negatives than false positives. It tended predict that certain posts were unethical life pro tips, when in fact they are!"
   ]
  },
  {
   "cell_type": "markdown",
   "metadata": {},
   "source": [
    "---\n",
    "#### Support Vector Machines\n",
    "\n",
    "- Exceptional perfomance\n",
    "- Effective in high-dimensional data\n",
    "- Low risk of overfitting, but a black box method"
   ]
  },
  {
   "cell_type": "code",
   "execution_count": 74,
   "metadata": {},
   "outputs": [
    {
     "name": "stdout",
     "output_type": "stream",
     "text": [
      " Training set learned 5104 distinct vocabulary\n",
      " Remember: 0 -> LifeProTips, 1 -> UnethicalLifeProTips\n",
      " Baseline model that guessed all LPT -> 0.5 accurate\n",
      " Training accuracy: 0.6189811584089323\n",
      " Test accuracy: 0.5962343096234309\n"
     ]
    },
    {
     "data": {
      "text/html": [
       "<table border=\"1\" class=\"dataframe table table-responsive table-striped table-bordered\">\n",
       "  <thead>\n",
       "    <tr style=\"text-align: right;\">\n",
       "      <th></th>\n",
       "      <th>prediction</th>\n",
       "      <th>label</th>\n",
       "      <th>title</th>\n",
       "      <th>num_comments</th>\n",
       "      <th>score</th>\n",
       "    </tr>\n",
       "  </thead>\n",
       "  <tbody>\n",
       "    <tr>\n",
       "      <th>337</th>\n",
       "      <td>UnethicalLifeProTips</td>\n",
       "      <td>LifeProTips</td>\n",
       "      <td>When taking apart a vehicle to work on it, take pics of ALL the screws and hardware in its original location. It will prevent ending up with hardware left over when it's all back together.</td>\n",
       "      <td>779</td>\n",
       "      <td>17594</td>\n",
       "    </tr>\n",
       "    <tr>\n",
       "      <th>368</th>\n",
       "      <td>UnethicalLifeProTips</td>\n",
       "      <td>LifeProTips</td>\n",
       "      <td>Before checking in at the airport, take a photograph of your luggage. A picture is worth a thousand words if your bags get lost!</td>\n",
       "      <td>715</td>\n",
       "      <td>18413</td>\n",
       "    </tr>\n",
       "  </tbody>\n",
       "</table>"
      ],
      "text/plain": [
       "<IPython.core.display.HTML object>"
      ]
     },
     "execution_count": 74,
     "metadata": {},
     "output_type": "execute_result"
    }
   ],
   "source": [
    "my_tuple = my_vectorizer(CountVectorizer,X_train,X_test,y_train,y_test,stop='english')\n",
    "Z_train = my_tuple[0]\n",
    "Z_test = my_tuple[1]\n",
    "target_train = my_tuple[2]\n",
    "target_test = my_tuple[3]\n",
    "\n",
    "results(svm.SVC())"
   ]
  },
  {
   "cell_type": "code",
   "execution_count": 25,
   "metadata": {},
   "outputs": [
    {
     "name": "stdout",
     "output_type": "stream",
     "text": [
      "0.9204466154919749\n",
      "{'C': 3, 'gamma': 'scale'}\n",
      "0.9037656903765691\n"
     ]
    }
   ],
   "source": [
    "params = {'C': [1,3],'gamma': [\"scale\"]}\n",
    "\n",
    "grid_search = GridSearchCV(svm.SVC(), param_grid=params, cv=5)\n",
    "grid_search.fit(Z_train, target_train)\n",
    "\n",
    "print(grid_search.best_score_)\n",
    "print(grid_search.best_params_)\n",
    "print(grid_search.score(Z_test,target_test))"
   ]
  },
  {
   "cell_type": "code",
   "execution_count": 73,
   "metadata": {},
   "outputs": [
    {
     "name": "stdout",
     "output_type": "stream",
     "text": [
      " Training accuracy: 0.9986043265875785\n",
      " Test accuracy: 0.9016736401673641\n"
     ]
    },
    {
     "data": {
      "text/html": [
       "<table border=\"1\" class=\"dataframe table table-responsive table-striped table-bordered\">\n",
       "  <thead>\n",
       "    <tr style=\"text-align: right;\">\n",
       "      <th></th>\n",
       "      <th>prediction</th>\n",
       "      <th>label</th>\n",
       "      <th>title</th>\n",
       "      <th>num_comments</th>\n",
       "      <th>score</th>\n",
       "    </tr>\n",
       "  </thead>\n",
       "  <tbody>\n",
       "    <tr>\n",
       "      <th>435</th>\n",
       "      <td>LifeProTips</td>\n",
       "      <td>UnethicalLifeProTips</td>\n",
       "      <td>Having an affair? Change your lover's contact name in your phone to \"Scam Likely,\" so your primary partner won't question why you're getting so many calls.</td>\n",
       "      <td>637</td>\n",
       "      <td>20447</td>\n",
       "    </tr>\n",
       "    <tr>\n",
       "      <th>84</th>\n",
       "      <td>UnethicalLifeProTips</td>\n",
       "      <td>LifeProTips</td>\n",
       "      <td>; Occasionally walk up to your immediate supervisor and ask for some constructive criticism. Be specific by asking something like \"What could I have done better on the Penske files?\". Whatever they say, just respond thank you and walk away.</td>\n",
       "      <td>250</td>\n",
       "      <td>19586</td>\n",
       "    </tr>\n",
       "  </tbody>\n",
       "</table>"
      ],
      "text/plain": [
       "<IPython.core.display.HTML object>"
      ]
     },
     "execution_count": 73,
     "metadata": {},
     "output_type": "execute_result"
    }
   ],
   "source": [
    "results(svm.SVC(2,gamma=\"scale\"))"
   ]
  },
  {
   "cell_type": "markdown",
   "metadata": {},
   "source": [
    "Out of the box, SVC is not performant. I have to tune hyperparameters to improve the accuracy. Recall, if C is large, we do not regularize much (larger budget that the margin can be violated), leading to a more perfect classifier of our training data. Of course, there will be a trade off in overfitting and greater error due to higher variance. A smaller gamma helps with lower bias, by trading off with higher variance. Gamma = \"scale\", which uses `n_features` * `X.var()` tends to work well. "
   ]
  },
  {
   "cell_type": "markdown",
   "metadata": {},
   "source": [
    "<table class=\"table table-striped table-responsive table-bordered\">\n",
    "<thead>\n",
    "</thead>\n",
    "<tbody>\n",
    "    \n",
    "<tr>\n",
    "<td><b> Classification Model </b></td>\n",
    "<td><b> Training Accuracy % </b></td>\n",
    "<td><b> Test Accuracy % </b></td>\n",
    "</tr>\n",
    "\n",
    "<tr>\n",
    "<td><b>Baseline </b></td>\n",
    "<td> 0.5 </td>\n",
    "<td> 0.5 </td>\n",
    "</tr>   \n",
    "\n",
    "\n",
    "<tr>\n",
    "<td><b>Logistic </b></td>\n",
    "<td> 0.999 </td>\n",
    "<td> 0.895</td>\n",
    "</tr>   \n",
    "\n",
    "<tr>\n",
    "<td><b>Naive Bayes </b></td>\n",
    "<td> 0.995 </td>\n",
    "<td> 0.805 </td>\n",
    "</tr>  \n",
    "\n",
    "<tr>\n",
    "<td><b>Support Vector Machines </b></td>\n",
    "<td> 0.920 </td>\n",
    "<td> 0.903 </td>\n",
    "</tr>   \n",
    "\n",
    "</tbody>\n",
    "</table>"
   ]
  },
  {
   "cell_type": "markdown",
   "metadata": {},
   "source": [
    "Given these results, my selected production model will be the logistic regression model with CountVectorizer as the vectorizer. The Logistic Model is nearly the most performant, but also provides a high level of interpret-ability compared to SVM.\n",
    "\n",
    "In conclusion:\n",
    "\n",
    "* The more 'popular' i.e. more comments and score, the great likelihood that it is unethical. Controversial posts tend to gain more popularity.\n",
    " \n",
    "* In this training set, if your document includes the word 'business', then the likelihood of being unethical is far more likely by 3x. There's probably a lot of unethical comments around taking advantage of businesses!"
   ]
  },
  {
   "cell_type": "markdown",
   "metadata": {},
   "source": [
    "---\n",
    "### Wrap up"
   ]
  },
  {
   "cell_type": "markdown",
   "metadata": {},
   "source": [
    "I was able to create an app using Natural Language Processing to classify which subreddit a particular post belongs to.\n",
    "\n",
    "While this was a fun use case of NLP, this analysis is widely applicable other areas, such as politics in classifying fake news vs. real news, or for eCommerce, with sentiment analysis of user reviews (i.e. polarity classification - positive, negative of neutral). Further, many virtual assistants (Amazon Alexa, Google Assistant) use NLP to understand human questions and provide the appropriate responses.\n",
    "\n",
    "In these scenarios, there would be far greater consequences, if the prediction was a false-positive or false-negative, so fine tuning the model to adjust for these thresholds is critical.\n",
    "\n",
    "As a next step, I hope to investigate other NLP open source packages such as [Spacy](https://spacy.io/)!"
   ]
  }
 ],
 "metadata": {
  "kernel_info": {
   "name": "python3"
  },
  "kernelspec": {
   "display_name": "Python 3",
   "language": "python",
   "name": "python3"
  },
  "language_info": {
   "codemirror_mode": {
    "name": "ipython",
    "version": 3
   },
   "file_extension": ".py",
   "mimetype": "text/x-python",
   "name": "python",
   "nbconvert_exporter": "python",
   "pygments_lexer": "ipython3",
   "version": "3.6.8"
  },
  "nteract": {
   "version": "0.14.2"
  },
  "toc": {
   "base_numbering": 1,
   "nav_menu": {},
   "number_sections": true,
   "sideBar": true,
   "skip_h1_title": false,
   "title_cell": "Table of Contents",
   "title_sidebar": "Contents",
   "toc_cell": false,
   "toc_position": {
    "height": "calc(100% - 180px)",
    "left": "10px",
    "top": "150px",
    "width": "287.988px"
   },
   "toc_section_display": true,
   "toc_window_display": true
  },
  "varInspector": {
   "cols": {
    "lenName": 16,
    "lenType": 16,
    "lenVar": 40
   },
   "kernels_config": {
    "python": {
     "delete_cmd_postfix": "",
     "delete_cmd_prefix": "del ",
     "library": "var_list.py",
     "varRefreshCmd": "print(var_dic_list())"
    },
    "r": {
     "delete_cmd_postfix": ") ",
     "delete_cmd_prefix": "rm(",
     "library": "var_list.r",
     "varRefreshCmd": "cat(var_dic_list()) "
    }
   },
   "types_to_exclude": [
    "module",
    "function",
    "builtin_function_or_method",
    "instance",
    "_Feature"
   ],
   "window_display": false
  }
 },
 "nbformat": 4,
 "nbformat_minor": 2
}
