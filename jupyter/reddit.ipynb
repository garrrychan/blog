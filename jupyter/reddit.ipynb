{
  "cells": [
    {
      "cell_type": "markdown",
      "source": [
        "Title: Can machines pick up sarcasm?\n",
        "Date: 2019-05-12 12:00\n",
        "Topic: Natural Language Processing\n",
        "Slug: reddit"
      ],
      "metadata": {}
    },
    {
      "cell_type": "markdown",
      "source": [
        "What's the difference between a life pro tip, and one that is a bit more questionable? This can be sometimes a subtle difference, or a moral grey area to distinguish, even for humans.  \n",
        "\n",
        "Life Pro Tip: \n",
        "> A concise and specific tip that improves life for you and those around you in a specific and significant way.\n",
        "\n",
        "<br>\n",
        "\n",
        "_Example_: \"If you want to learn a new language, figure out the 100 most frequently used words and start with them. Those words make up about 50% of everyday speech, and should be a very solid basis.\"\n",
        "\n",
        "> An Unethical Life Pro Tip is a tip that improves your life in a meaningful way, perhaps at the expense of others and/or with questionable legality. Due to their nature, do not actually follow any of these tips–they're just for fun. \n",
        "\n",
        "<br>\n",
        "\n",
        "Example: \"Save business cards of people you don't like. If you ever hit a parked car accidentally, just write \"sorry\" on the back and leave it on the windshield.\"\n",
        "\n",
        "Let's collect posts (web scrap) from 2 subreddits, and create a machine learning model using Natural Langauge Processing (NLP) to classify which subreddit a particular post belongs too. Can my model pick up on sarcasm, internet 'trolling', or tongue-in-cheek semantic of sentences? Probably not, but let's try. I hope you have as much fun playing with this, as I did making it. \n",
        "\n",
        "If you're feeling lucky, visit my app for a [Life Pro Tip](https://nlp-reddit-garry.herokuapp.com)!\n",
        "\n",
        "<img src='images/nlp.png' class='img-responsive'>"
      ],
      "metadata": {}
    },
    {
      "cell_type": "markdown",
      "source": [
        "---\n",
        "\n",
        "### Reddit API \n",
        "\n",
        "Fortunately, Reddit provides a public JSON end point, so we can easily consume that format, and manipulate it a Pandas DataFrame. Simply add `.json` at the end of the URL.\n",
        "\n",
        "If you plan to run your own `get` requests, keep in mind that Reddit has a limit of 25 posts / request. In conjunction with `for` loop, write a `time.sleep()` function in Python (or something equivalent) to avoid a 429 Too Many Requests error. \n",
        "\n"
      ],
      "metadata": {}
    },
    {
      "cell_type": "markdown",
      "source": [
        "#### Data dictionary\n",
        "\n",
        "We are interested in the following features:\n",
        "\n",
        "<table class=\"table table-responsive table-bordered\">\n",
        "<thead>\n",
        "</thead>\n",
        "<tbody>\n",
        "<tr>\n",
        "<td><b>Target variable, y </b></td>\n",
        "<td> <p> subreddit (str) </p> </td>\n",
        "</tr>\n",
        "    \n",
        "<tr>\n",
        "<td><b>Design matrix, X </b></td>\n",
        "<td> \n",
        "<p>title (str)</p>\n",
        "<p>score (int)</p>\n",
        "<p>num_comments (int)</p>\n",
        "<p>author (int)</p>\n",
        "<p>name (int)</p>\n",
        "</ul>\n",
        "</td></tr>   \n",
        "\n",
        "</tbody>\n",
        "</table>"
      ],
      "metadata": {}
    },
    {
      "cell_type": "markdown",
      "source": [
        "--- \n",
        "### Pre-processing data\n",
        "\n",
        "\n",
        "First, I have to pre-process the data, and use natural language processing packages to tokenize strings to individual words. We will be using Python's Natural Language Toolkit (nltk) package.\n",
        "\n",
        "Follow along if you want to create your own classifier, otherwise, skip to the results. All code is available on [GitHub](https://github.com/garrrychan/nlp_reddit). Refer to `reddit_garry.py` for scraping."
      ],
      "metadata": {}
    },
    {
      "cell_type": "code",
      "source": [
        "import pandas as pd\n",
        "import numpy as np\n",
        "import re\n",
        "import nltk\n",
        "from nltk.tokenize import RegexpTokenizer\n",
        "from nltk.corpus import stopwords\n",
        "from sklearn.model_selection import train_test_split\n",
        "from sklearn.feature_extraction.text import CountVectorizer, TfidfVectorizer\n",
        "from nltk.stem import WordNetLemmatizer\n",
        "from sklearn.preprocessing import LabelEncoder, StandardScaler, LabelBinarizer\n",
        "from sklearn_pandas import DataFrameMapper\n",
        "from sklearn.naive_bayes import MultinomialNB\n",
        "from sklearn.model_selection import GridSearchCV \n",
        "from sklearn.linear_model import LogisticRegression\n",
        "from sklearn import svm\n",
        "from sklearn.exceptions import DataConversionWarning\n",
        "import warnings\n",
        "warnings.filterwarnings(action='ignore', category=DataConversionWarning)\n",
        "warnings.filterwarnings(action='ignore', category=FutureWarning) \n",
        "np.set_printoptions(suppress=True)\n",
        "pd.set_option('display.max_colwidth', -1)\n",
        "from IPython.display import HTML"
      ],
      "outputs": [],
      "execution_count": 1,
      "metadata": {}
    },
    {
      "cell_type": "code",
      "source": [
        "# encoding utf-8 for special characters\n",
        "raw_lpt = pd.read_csv(\"./data/lpt.csv\", encoding='utf-8')\n",
        "raw_ulpt = pd.read_csv(\"./data/ulpt.csv\", encoding='utf-8')"
      ],
      "outputs": [],
      "execution_count": 2,
      "metadata": {
        "scrolled": true
      }
    },
    {
      "cell_type": "markdown",
      "source": [
        "Merge, train, test split data. \n",
        "\n",
        "Notice how there is \"ULPT\" or \"LPT\" in the title, which is clearly target leakage. To prevent target leakage in the title, I will use regular expressions (Regex) to match permutations of LPT, lpt, ULPT, ulpt and remove."
      ],
      "metadata": {}
    },
    {
      "cell_type": "code",
      "source": [
        "df = pd.merge(raw_lpt, raw_ulpt, how='outer')\n",
        "HTML(df.sample(2).to_html(classes=\"table table-responsive table-striped table-bordered\"))"
      ],
      "outputs": [
        {
          "output_type": "execute_result",
          "execution_count": 3,
          "data": {
            "text/html": [
              "<table border=\"1\" class=\"dataframe table table-responsive table-striped table-bordered\">\n",
              "  <thead>\n",
              "    <tr style=\"text-align: right;\">\n",
              "      <th></th>\n",
              "      <th>author</th>\n",
              "      <th>name</th>\n",
              "      <th>num_comments</th>\n",
              "      <th>score</th>\n",
              "      <th>subreddit</th>\n",
              "      <th>title</th>\n",
              "    </tr>\n",
              "  </thead>\n",
              "  <tbody>\n",
              "    <tr>\n",
              "      <th>131</th>\n",
              "      <td>cmplctdsmplcty</td>\n",
              "      <td>t3_8t9pd6</td>\n",
              "      <td>1582</td>\n",
              "      <td>43772</td>\n",
              "      <td>LifeProTips</td>\n",
              "      <td>LPT: If a friend is buying you lunch and you are wondering what price or how much is okay, ask him what he recommends.</td>\n",
              "    </tr>\n",
              "    <tr>\n",
              "      <th>641</th>\n",
              "      <td>j0be</td>\n",
              "      <td>t3_38d5tt</td>\n",
              "      <td>982</td>\n",
              "      <td>17099</td>\n",
              "      <td>LifeProTips</td>\n",
              "      <td>LPT: Testing a battery life</td>\n",
              "    </tr>\n",
              "  </tbody>\n",
              "</table>"
            ],
            "text/plain": [
              "<IPython.core.display.HTML object>"
            ]
          },
          "metadata": {}
        }
      ],
      "execution_count": 3,
      "metadata": {}
    },
    {
      "cell_type": "code",
      "source": [
        "y = df.subreddit\n",
        "X = df.drop([\"subreddit\",'name'],axis=1) # drop name, it's a unique identifier, not predictive\n",
        "X_train, X_test, y_train, y_test = train_test_split(X, y, random_state=42)"
      ],
      "outputs": [],
      "execution_count": 4,
      "metadata": {}
    },
    {
      "cell_type": "code",
      "source": [
        "def post_to_words(raw_post):\n",
        "    '''Returns a list of words ready for classification, by tokenizing,\n",
        "    removing punctuation, setting to lower case and removing stop words.'''\n",
        "    tokenizer = RegexpTokenizer(r'[a-z]+')\n",
        "    words = tokenizer.tokenize(raw_post.lower())\n",
        "    meaningful_words = [w for w in words if not w in set(stopwords.words('english'))]\n",
        "    return(\" \".join(meaningful_words))"
      ],
      "outputs": [],
      "execution_count": 5,
      "metadata": {}
    },
    {
      "cell_type": "code",
      "source": [
        "X_train.loc[:,\"title_clean\"] = X_train[\"title\"].apply(lambda row : re.sub(r\"[uU]*[lL][pP][tT]\\s*:*\", '', row)).apply(lambda row: post_to_words(row))"
      ],
      "outputs": [],
      "execution_count": 38,
      "metadata": {
        "scrolled": true
      }
    },
    {
      "cell_type": "code",
      "source": [
        "# for humans\n",
        "X_test.loc[:,\"title_read\"] = X_test[\"title\"].apply(lambda row : re.sub(r\"[uU]*[lL][pP][tT]\\s*:*\", '', row))"
      ],
      "outputs": [],
      "execution_count": 7,
      "metadata": {}
    },
    {
      "cell_type": "code",
      "source": [
        "# for model\n",
        "X_test.loc[:,\"title_clean\"] = X_test[\"title_read\"].apply(lambda row: post_to_words(row))"
      ],
      "outputs": [],
      "execution_count": 8,
      "metadata": {}
    },
    {
      "cell_type": "markdown",
      "source": [
        "---\n",
        "### Modeling"
      ],
      "metadata": {}
    },
    {
      "cell_type": "markdown",
      "source": [
        "#### CountVectorizer\n",
        "\n",
        "Let's start simple. CountVectorizer is a bag of words model processes text by ignoring structure of a sentences and merely assesses the count of specific words, or word combinations."
      ],
      "metadata": {}
    },
    {
      "cell_type": "code",
      "source": [
        "def my_vectorizer(vectorizer,X_train,X_test,y_train,y_test,stop=None):\n",
        "    '''Takes a vectorizer, fits the model, learns the vocabulary,\n",
        "    transforms data and returns the transformed matrices'''\n",
        "    # transform text\n",
        "    vect = vectorizer(stop_words=stop) \n",
        "    train_data_features = vect.fit_transform(X_train.title_clean)\n",
        "    test_data_features = vect.transform(X_test.title_clean)\n",
        "    le = LabelEncoder()\n",
        "    target_train = le.fit_transform(y_train)\n",
        "    target_test = le.transform(y_test)\n",
        "    \n",
        "    # transform non text\n",
        "    mapper = DataFrameMapper([\n",
        "    (\"author\", LabelBinarizer()),\n",
        "    ([\"num_comments\"], StandardScaler()),\n",
        "    ([\"score\"], StandardScaler())], df_out=True)\n",
        "    Z_train = mapper.fit_transform(X_train)\n",
        "    Z_test = mapper.transform(X_test)\n",
        "    print(f' Training set learned {train_data_features.shape[1]} distinct vocabulary')\n",
        "    print(f' Remember: 0 -> {le.classes_[0]}, 1 -> {le.classes_[1]}')\n",
        "    \n",
        "    # Baseline model\n",
        "    print(f' Baseline model that guessed all LPT -> {round(1-sum(target_test)/len(target_test),2)} accurate')\n",
        "    \n",
        "    # Combine both df columns together\n",
        "    a = pd.DataFrame(train_data_features.todense())\n",
        "    b = Z_train\n",
        "    c = pd.DataFrame(test_data_features.todense())\n",
        "    d = Z_test\n",
        "\n",
        "    # reset indices in order to merge\n",
        "    a = a.reset_index().drop(\"index\",axis=1)\n",
        "    b = b.reset_index().drop(\"index\",axis=1)\n",
        "    c = c.reset_index().drop(\"index\",axis=1)\n",
        "    d = d.reset_index().drop(\"index\",axis=1)\n",
        "    \n",
        "    Z_train = pd.merge(a,b, left_index=True, right_index=True)\n",
        "    Z_test = pd.merge(c,d, left_index=True, right_index=True)\n",
        "    return (Z_train, Z_test, target_train, target_test)"
      ],
      "outputs": [],
      "execution_count": 9,
      "metadata": {}
    },
    {
      "cell_type": "markdown",
      "source": [
        "---\n",
        "#### Classification\n",
        "\n",
        "With my data ready in array format, I can now apply binary classifiers. I'll try:\n",
        "\n",
        "<ul>\n",
        "<li>Logistic Regression</li>\n",
        "<li>Naive Bayes Multinomial</li>\n",
        "<li>Support Vector Machine</li>\n",
        "</ul>"
      ],
      "metadata": {}
    },
    {
      "cell_type": "code",
      "source": [
        "my_tuple = my_vectorizer(CountVectorizer,X_train,X_test,y_train,y_test,stop='english')\n",
        "Z_train = my_tuple[0]\n",
        "Z_test = my_tuple[1]\n",
        "target_train = my_tuple[2]\n",
        "target_test = my_tuple[3]"
      ],
      "outputs": [
        {
          "output_type": "stream",
          "name": "stdout",
          "text": [
            " Training set learned 5104 distinct vocabulary\n",
            " Remember: 0 -> LifeProTips, 1 -> UnethicalLifeProTips\n",
            " Baseline model that guessed all LPT -> 0.5 accurate\n"
          ]
        }
      ],
      "execution_count": 15,
      "metadata": {
        "scrolled": true
      }
    },
    {
      "cell_type": "code",
      "source": [
        "def results(model):\n",
        "    '''Return a sample of 5 wrong predictions'''\n",
        "    model.fit(Z_train, target_train)\n",
        "    print(f' Training accuracy: {model.score(Z_train, target_train)}')\n",
        "    print(f' Test accuracy: {model.score(Z_test, target_test)}')\n",
        "    predictions = model.predict(Z_test)\n",
        "    predictions = np.where(predictions==0,\"LifeProTips\",\"UnethicalLifeProTips\")\n",
        "    proba_lpt = model.predict_proba(Z_test)[:,0]\n",
        "    final = pd.DataFrame(list(zip(predictions, y_test, proba_lpt, X_test.title_read, X_test.num_comments, X_test.score)), columns=['prediction', 'label', 'proba_lpt','title', \"num_comments\", \"score\"])   \n",
        "    wrong = final[final.prediction!=final.label] \n",
        "    return HTML(wrong.sample(2).to_html(classes=\"table table-responsive table-striped table-bordered\"))"
      ],
      "outputs": [],
      "execution_count": 19,
      "metadata": {}
    },
    {
      "cell_type": "code",
      "source": [
        "results(LogisticRegression())"
      ],
      "outputs": [
        {
          "output_type": "stream",
          "name": "stdout",
          "text": [
            " Training accuracy: 0.9993021632937893\n",
            " Test accuracy: 0.895397489539749\n"
          ]
        },
        {
          "output_type": "execute_result",
          "execution_count": 20,
          "data": {
            "text/html": [
              "<table border=\"1\" class=\"dataframe table table-responsive table-striped table-bordered\">\n",
              "  <thead>\n",
              "    <tr style=\"text-align: right;\">\n",
              "      <th></th>\n",
              "      <th>prediction</th>\n",
              "      <th>label</th>\n",
              "      <th>proba_lpt</th>\n",
              "      <th>title</th>\n",
              "      <th>num_comments</th>\n",
              "      <th>score</th>\n",
              "    </tr>\n",
              "  </thead>\n",
              "  <tbody>\n",
              "    <tr>\n",
              "      <th>400</th>\n",
              "      <td>LifeProTips</td>\n",
              "      <td>UnethicalLifeProTips</td>\n",
              "      <td>0.939449</td>\n",
              "      <td>As a parent of a baby, smell their diaper. If you DON?T smell poop, say, ?Woah, somebody has a poopy diaper. ? Then take them to the other room and pretend to change them. Then the next time they poop tell your spouse, ?It?s your turn. I changed them last time.?</td>\n",
              "      <td>733</td>\n",
              "      <td>38948</td>\n",
              "    </tr>\n",
              "    <tr>\n",
              "      <th>367</th>\n",
              "      <td>UnethicalLifeProTips</td>\n",
              "      <td>LifeProTips</td>\n",
              "      <td>0.456397</td>\n",
              "      <td>People want someone to tell them what to do in emergency situations. For example while performing CPR on someone don't say \"Someone call an ambulance\" instead talk to one person and ask him/her to call an ambulance directly.</td>\n",
              "      <td>706</td>\n",
              "      <td>20378</td>\n",
              "    </tr>\n",
              "  </tbody>\n",
              "</table>"
            ],
            "text/plain": [
              "<IPython.core.display.HTML object>"
            ]
          },
          "metadata": {}
        }
      ],
      "execution_count": 20,
      "metadata": {
        "scrolled": true
      }
    },
    {
      "cell_type": "code",
      "source": [
        "log_model = LogisticRegression()\n",
        "log_model.fit(Z_train, target_train);"
      ],
      "outputs": [],
      "execution_count": 21,
      "metadata": {}
    },
    {
      "cell_type": "markdown",
      "source": [
        "These two were incorrectly classified, because the num_comments might have thrown it off. These are not your typical posts, but by moderators.\n",
        "\n",
        "Let's look at the largest coefficients that correspond to num_comments (col 6452), score (col 6453), column 576, 4945 & 3125, and peak into the words. "
      ],
      "metadata": {}
    },
    {
      "cell_type": "code",
      "source": [
        "pd.options.display.float_format = '{:.2f}'.format\n",
        "my_coef = pd.DataFrame(list(zip(Z_train.columns,abs(log_model.coef_[0]))),columns=[\"x\",\"coef\"]).sort_values(by=\"coef\",ascending=False)\n",
        "my_coef.head()"
      ],
      "outputs": [
        {
          "output_type": "execute_result",
          "execution_count": 22,
          "data": {
            "text/html": [
              "<div>\n",
              "<style scoped>\n",
              "    .dataframe tbody tr th:only-of-type {\n",
              "        vertical-align: middle;\n",
              "    }\n",
              "\n",
              "    .dataframe tbody tr th {\n",
              "        vertical-align: top;\n",
              "    }\n",
              "\n",
              "    .dataframe thead th {\n",
              "        text-align: right;\n",
              "    }\n",
              "</style>\n",
              "<table border=\"1\" class=\"dataframe\">\n",
              "  <thead>\n",
              "    <tr style=\"text-align: right;\">\n",
              "      <th></th>\n",
              "      <th>x</th>\n",
              "      <th>coef</th>\n",
              "    </tr>\n",
              "  </thead>\n",
              "  <tbody>\n",
              "    <tr>\n",
              "      <th>6354</th>\n",
              "      <td>num_comments</td>\n",
              "      <td>4.33</td>\n",
              "    </tr>\n",
              "    <tr>\n",
              "      <th>6355</th>\n",
              "      <td>score</td>\n",
              "      <td>1.83</td>\n",
              "    </tr>\n",
              "    <tr>\n",
              "      <th>576</th>\n",
              "      <td>576</td>\n",
              "      <td>1.11</td>\n",
              "    </tr>\n",
              "    <tr>\n",
              "      <th>4945</th>\n",
              "      <td>4945</td>\n",
              "      <td>1.05</td>\n",
              "    </tr>\n",
              "    <tr>\n",
              "      <th>3125</th>\n",
              "      <td>3125</td>\n",
              "      <td>1.03</td>\n",
              "    </tr>\n",
              "  </tbody>\n",
              "</table>\n",
              "</div>"
            ],
            "text/plain": [
              "                 x  coef\n",
              "6354  num_comments 4.33 \n",
              "6355  score        1.83 \n",
              "576   576          1.11 \n",
              "4945  4945         1.05 \n",
              "3125  3125         1.03 "
            ]
          },
          "metadata": {}
        }
      ],
      "execution_count": 22,
      "metadata": {
        "scrolled": false
      }
    },
    {
      "cell_type": "code",
      "source": [
        "my_coef = pd.DataFrame(list(zip(Z_train.columns,log_model.coef_[0])),columns=[\"x\",\"coef\"])\n",
        "large_coef = my_coef[(my_coef[\"x\"]==\"num_comments\") | (my_coef[\"x\"]==\"score\") | (my_coef[\"x\"]==576) | (my_coef[\"x\"]==4945) | (my_coef[\"x\"]==3125)] \n",
        "HTML(large_coef.to_html(classes=\"table table-responsive table-striped table-bordered\"))"
      ],
      "outputs": [
        {
          "output_type": "execute_result",
          "execution_count": 23,
          "data": {
            "text/html": [
              "<table border=\"1\" class=\"dataframe table table-responsive table-striped table-bordered\">\n",
              "  <thead>\n",
              "    <tr style=\"text-align: right;\">\n",
              "      <th></th>\n",
              "      <th>x</th>\n",
              "      <th>coef</th>\n",
              "    </tr>\n",
              "  </thead>\n",
              "  <tbody>\n",
              "    <tr>\n",
              "      <th>576</th>\n",
              "      <td>576</td>\n",
              "      <td>1.11</td>\n",
              "    </tr>\n",
              "    <tr>\n",
              "      <th>3125</th>\n",
              "      <td>3125</td>\n",
              "      <td>1.03</td>\n",
              "    </tr>\n",
              "    <tr>\n",
              "      <th>4945</th>\n",
              "      <td>4945</td>\n",
              "      <td>1.05</td>\n",
              "    </tr>\n",
              "    <tr>\n",
              "      <th>6354</th>\n",
              "      <td>num_comments</td>\n",
              "      <td>-4.33</td>\n",
              "    </tr>\n",
              "    <tr>\n",
              "      <th>6355</th>\n",
              "      <td>score</td>\n",
              "      <td>-1.83</td>\n",
              "    </tr>\n",
              "  </tbody>\n",
              "</table>"
            ],
            "text/plain": [
              "<IPython.core.display.HTML object>"
            ]
          },
          "metadata": {}
        }
      ],
      "execution_count": 23,
      "metadata": {
        "scrolled": true
      }
    },
    {
      "cell_type": "code",
      "source": [
        "cvect = CountVectorizer(stop_words='english') \n",
        "train_data_features = cvect.fit_transform(X_train.title_clean)"
      ],
      "outputs": [],
      "execution_count": 24,
      "metadata": {}
    },
    {
      "cell_type": "code",
      "source": [
        "print(f' {cvect.get_feature_names()[576]}: {round(np.exp(1.11),2)}x')\n",
        "print(f' {cvect.get_feature_names()[4945]}: {round(np.exp(1.03),2)}x')\n",
        "print(f' {cvect.get_feature_names()[3215]}: {round(np.exp(1.05),2)}x')"
      ],
      "outputs": [
        {
          "output_type": "stream",
          "name": "stdout",
          "text": [
            " business: 3.03x\n",
            " want: 2.8x\n",
            " pitched: 2.86x\n"
          ]
        }
      ],
      "execution_count": 25,
      "metadata": {}
    },
    {
      "cell_type": "code",
      "source": [
        "f'If the number of comments increases by 1, the likelihood of being an Unethical Life Pro Tip is {round(np.exp(-4.33),2)}x more likely.'"
      ],
      "outputs": [
        {
          "output_type": "execute_result",
          "execution_count": 26,
          "data": {
            "text/plain": [
              "'If the number of comments increases by 1, the likelihood of being an Unethical Life Pro Tip is 0.01x more likely.'"
            ]
          },
          "metadata": {}
        }
      ],
      "execution_count": 26,
      "metadata": {}
    },
    {
      "cell_type": "code",
      "source": [
        "f'If the score (upvotes - downvotes) increases by 1, the likelihood of being an Unethical Life Pro Tip is {round(np.exp(-1.83),2)}x more likely.'"
      ],
      "outputs": [
        {
          "output_type": "execute_result",
          "execution_count": 27,
          "data": {
            "text/plain": [
              "'If the score (upvotes - downvotes) increases by 1, the likelihood of being an Unethical Life Pro Tip is 0.16x more likely.'"
            ]
          },
          "metadata": {}
        }
      ],
      "execution_count": 27,
      "metadata": {}
    },
    {
      "cell_type": "markdown",
      "source": [
        "This is really performant off the bat with 99.9% training accuracy and 89.5% test accuracy. Yes, there is overfitting but it's picking up signal, in the text.\n",
        "\n",
        "There's many more false positives than false negatives. One could argue, false positives are not as bad as false negatives since you don't want to heed the advice of a bad tip, but if you miss a life pro tip, it's not as damaging. If we wanted to be more strict, we could tweak the threshold such that only predictions > 75% would be classified as UnethicalLifeProTip.\n",
        "\n",
        "\"Give the same perfume to your wife and your girlfriend. It could save your ass one day.\" 🙅🏻‍♂️ - _Not a Life Pro Tip_ but was predicted a _Pro Tip_ \n",
        "\n",
        "* The more 'popular' i.e. more comments and score, the great likelihood that it is unethical. Controversial posts tend to gain more popularity.\n",
        " \n",
        "* In this training set, if your document includes the word 'business', then the likelihood of being unethical is far more likely by 3x. There's probably a lot of unethical comments around taking advantage of businesses!"
      ],
      "metadata": {}
    },
    {
      "cell_type": "markdown",
      "source": [
        "---\n",
        "#### Term Frequency Inverse Document Frequency (TF-IDF)"
      ],
      "metadata": {}
    },
    {
      "cell_type": "markdown",
      "source": [
        "Compared to CountVectorizer, TF-IDF vectorizer tells us which words are most discriminating between documents.\n",
        "Words that occur often in one document but don't occur in many documents are important and contain a great deal of discriminating power. Note, TF-IDF figures are between [0,1]. The score is based on how often a word is compared in your document (spam) and other documents."
      ],
      "metadata": {}
    },
    {
      "cell_type": "code",
      "source": [
        "my_tuple = my_vectorizer(TfidfVectorizer,X_train,X_test,y_train,y_test,stop='english')\n",
        "Z_train = my_tuple[0]\n",
        "Z_test = my_tuple[1]\n",
        "target_train = my_tuple[2]\n",
        "target_test = my_tuple[3]"
      ],
      "outputs": [
        {
          "output_type": "stream",
          "name": "stdout",
          "text": [
            " Training set learned 5104 distinct vocabulary\n",
            " Remember: 0 -> LifeProTips, 1 -> UnethicalLifeProTips\n",
            " Baseline model that guessed all LPT -> 0.5 accurate\n"
          ]
        }
      ],
      "execution_count": 28,
      "metadata": {}
    },
    {
      "cell_type": "code",
      "source": [
        "results(LogisticRegression())"
      ],
      "outputs": [
        {
          "output_type": "stream",
          "name": "stdout",
          "text": [
            " Training accuracy: 0.9567341242149338\n",
            " Test accuracy: 0.8535564853556485\n"
          ]
        },
        {
          "output_type": "execute_result",
          "execution_count": 29,
          "data": {
            "text/html": [
              "<table border=\"1\" class=\"dataframe table table-responsive table-striped table-bordered\">\n",
              "  <thead>\n",
              "    <tr style=\"text-align: right;\">\n",
              "      <th></th>\n",
              "      <th>prediction</th>\n",
              "      <th>label</th>\n",
              "      <th>proba_lpt</th>\n",
              "      <th>title</th>\n",
              "      <th>num_comments</th>\n",
              "      <th>score</th>\n",
              "    </tr>\n",
              "  </thead>\n",
              "  <tbody>\n",
              "    <tr>\n",
              "      <th>223</th>\n",
              "      <td>LifeProTips</td>\n",
              "      <td>UnethicalLifeProTips</td>\n",
              "      <td>0.65</td>\n",
              "      <td>If you?re driving next to a cop with drugs in your car and are trying to act normal, pick your nose. Your body language shows you aren?t concerned with anyone around you. The last thing you?d ever do if you were paranoid about a cop next to you is pick you nose.</td>\n",
              "      <td>654</td>\n",
              "      <td>24883</td>\n",
              "    </tr>\n",
              "    <tr>\n",
              "      <th>371</th>\n",
              "      <td>UnethicalLifeProTips</td>\n",
              "      <td>LifeProTips</td>\n",
              "      <td>0.13</td>\n",
              "      <td>Found a useful Youtube video but no time to watch all of it? Click on the three circles underneath the video and hit 'Open transcript'.</td>\n",
              "      <td>260</td>\n",
              "      <td>10747</td>\n",
              "    </tr>\n",
              "  </tbody>\n",
              "</table>"
            ],
            "text/plain": [
              "<IPython.core.display.HTML object>"
            ]
          },
          "metadata": {}
        }
      ],
      "execution_count": 29,
      "metadata": {}
    },
    {
      "cell_type": "markdown",
      "source": [
        "Test accuracy decreases to 85.4% which is lower than CountVectorizer. There are probably not as many discriminating words. Common words are helpful in distinguishing between the two classes. Words of high frequency that are predictive of one of the classes.\n",
        "\n",
        "It's not entire clear which words are the most influential, some words might indicate sarcasm. Overall, it's impressive that a logistic regression model is so powerful already, let's try a few more algorithms."
      ],
      "metadata": {}
    },
    {
      "cell_type": "markdown",
      "source": [
        "---\n",
        "#### Naive Bayes Classifier\n",
        "The multinomial Naive Bayes classifier is appropriate for classification with discrete features (e.g., word counts for text classification), as the columns of X are all integer counts.\n",
        "\n",
        "Note, this classifier accepts only positive values so I have run the abs function on my scaled features. While I have the option to add a prior, I have opted to have Sklearn estimate from training data directly. I don't have a strong opinion if a particular post is in one subreddit over the other. "
      ],
      "metadata": {}
    },
    {
      "cell_type": "code",
      "source": [
        "model = MultinomialNB()\n",
        "Z_train = my_tuple[0]\n",
        "Z_test = my_tuple[1]\n",
        "target_train = my_tuple[2]\n",
        "target_test = my_tuple[3]\n",
        "\n",
        "Z_train.num_comments = abs(Z_train.num_comments)\n",
        "Z_train.score = abs(Z_train.score)\n",
        "model.fit(Z_train, target_train)\n",
        "\n",
        "print(f' Training accuracy: {model.score(Z_train, target_train)}')\n",
        "print(f' Test accuracy: {model.score(Z_test, target_test)}')\n",
        "\n",
        "predictions = model.predict(Z_test)\n",
        "predictions = np.where(predictions==0,\"LifeProTips\",\"UnethicalLifeProTips\")\n",
        "final = pd.DataFrame(list(zip(predictions, y_test, X_test.title_read, X_test.num_comments, X_test.score)), columns=['prediction', 'label', 'title', \"num_comments\", \"score\"])\n",
        "wrong = final[final.prediction!=final.label] \n",
        "HTML(wrong.sample(2).to_html(classes=\"table table-responsive table-striped table-bordered\"))"
      ],
      "outputs": [
        {
          "output_type": "stream",
          "name": "stdout",
          "text": [
            " Training accuracy: 0.9951151430565248\n",
            " Test accuracy: 0.805439330543933\n"
          ]
        },
        {
          "output_type": "execute_result",
          "execution_count": 30,
          "data": {
            "text/html": [
              "<table border=\"1\" class=\"dataframe table table-responsive table-striped table-bordered\">\n",
              "  <thead>\n",
              "    <tr style=\"text-align: right;\">\n",
              "      <th></th>\n",
              "      <th>prediction</th>\n",
              "      <th>label</th>\n",
              "      <th>title</th>\n",
              "      <th>num_comments</th>\n",
              "      <th>score</th>\n",
              "    </tr>\n",
              "  </thead>\n",
              "  <tbody>\n",
              "    <tr>\n",
              "      <th>186</th>\n",
              "      <td>UnethicalLifeProTips</td>\n",
              "      <td>LifeProTips</td>\n",
              "      <td>If you want people to leave you alone while you are traveling, just wear a surgical mask and people will give you plenty of space.</td>\n",
              "      <td>616</td>\n",
              "      <td>25459</td>\n",
              "    </tr>\n",
              "    <tr>\n",
              "      <th>63</th>\n",
              "      <td>UnethicalLifeProTips</td>\n",
              "      <td>LifeProTips</td>\n",
              "      <td>Shipping boxes for the Holiday Season</td>\n",
              "      <td>662</td>\n",
              "      <td>11521</td>\n",
              "    </tr>\n",
              "  </tbody>\n",
              "</table>"
            ],
            "text/plain": [
              "<IPython.core.display.HTML object>"
            ]
          },
          "metadata": {}
        }
      ],
      "execution_count": 30,
      "metadata": {}
    },
    {
      "cell_type": "code",
      "source": [
        "from sklearn.metrics import confusion_matrix\n",
        "predictions = model.predict(my_tuple[1])\n",
        "print(confusion_matrix(my_tuple[3], predictions))\n",
        "tn, fp, fn, tp = confusion_matrix(my_tuple[3], predictions).ravel()\n",
        "print(\"True Negatives: %s\" % tn)\n",
        "print(\"False Positives: %s\" % fp)\n",
        "print(\"False Negatives: %s\" % fn)\n",
        "print(\"True Positives: %s\" % tp)"
      ],
      "outputs": [
        {
          "output_type": "stream",
          "name": "stdout",
          "text": [
            "[[167  74]\n",
            " [ 19 218]]\n",
            "True Negatives: 167\n",
            "False Positives: 74\n",
            "False Negatives: 19\n",
            "True Positives: 218\n"
          ]
        }
      ],
      "execution_count": 31,
      "metadata": {}
    },
    {
      "cell_type": "markdown",
      "source": [
        "While Naive Bayes also has a high training accuracy, it is severely overfitting. In this case, there are more false negatives than false positives. It tended predict that certain posts were unethical life pro tips, when in fact they are!"
      ],
      "metadata": {}
    },
    {
      "cell_type": "markdown",
      "source": [
        "---\n",
        "#### Support Vector Machines\n",
        "\n",
        "- Exceptional perfomance\n",
        "- Effective in high-dimensional data\n",
        "- Low risk of overfitting, but a black box method"
      ],
      "metadata": {}
    },
    {
      "cell_type": "code",
      "source": [
        "my_tuple = my_vectorizer(CountVectorizer,X_train,X_test,y_train,y_test,stop='english')\n",
        "Z_train = my_tuple[0]\n",
        "Z_test = my_tuple[1]\n",
        "target_train = my_tuple[2]\n",
        "target_test = my_tuple[3]\n",
        "\n",
        "results(svm.SVC(probability=True))"
      ],
      "outputs": [
        {
          "output_type": "stream",
          "name": "stdout",
          "text": [
            " Training set learned 5104 distinct vocabulary\n",
            " Remember: 0 -> LifeProTips, 1 -> UnethicalLifeProTips\n",
            " Baseline model that guessed all LPT -> 0.5 accurate\n",
            " Training accuracy: 0.6189811584089323\n",
            " Test accuracy: 0.5962343096234309\n"
          ]
        },
        {
          "output_type": "execute_result",
          "execution_count": 34,
          "data": {
            "text/html": [
              "<table border=\"1\" class=\"dataframe table table-responsive table-striped table-bordered\">\n",
              "  <thead>\n",
              "    <tr style=\"text-align: right;\">\n",
              "      <th></th>\n",
              "      <th>prediction</th>\n",
              "      <th>label</th>\n",
              "      <th>proba_lpt</th>\n",
              "      <th>title</th>\n",
              "      <th>num_comments</th>\n",
              "      <th>score</th>\n",
              "    </tr>\n",
              "  </thead>\n",
              "  <tbody>\n",
              "    <tr>\n",
              "      <th>388</th>\n",
              "      <td>UnethicalLifeProTips</td>\n",
              "      <td>LifeProTips</td>\n",
              "      <td>0.36</td>\n",
              "      <td>If you accidentally clicked \"Don't Save\" when closing a MS Word document, you can manually recover it by going to go to File&amp;gt;Info&amp;gt;Manage Versions&amp;gt;Recover Unsaved Documents</td>\n",
              "      <td>315</td>\n",
              "      <td>23711</td>\n",
              "    </tr>\n",
              "    <tr>\n",
              "      <th>321</th>\n",
              "      <td>UnethicalLifeProTips</td>\n",
              "      <td>LifeProTips</td>\n",
              "      <td>0.33</td>\n",
              "      <td>after a family member gets married, keep the list of things that they registered for but didn’t get and use it for birthday and Christmas presents. It will save you time wondering what they want especially if they’re difficult to shop for.</td>\n",
              "      <td>365</td>\n",
              "      <td>21039</td>\n",
              "    </tr>\n",
              "  </tbody>\n",
              "</table>"
            ],
            "text/plain": [
              "<IPython.core.display.HTML object>"
            ]
          },
          "metadata": {}
        }
      ],
      "execution_count": 34,
      "metadata": {}
    },
    {
      "cell_type": "code",
      "source": [
        "params = {'C': [1,3],'gamma': [\"scale\"]}\n",
        "\n",
        "grid_search = GridSearchCV(svm.SVC(), param_grid=params, cv=5)\n",
        "grid_search.fit(Z_train, target_train)\n",
        "\n",
        "print(grid_search.best_score_)\n",
        "print(grid_search.best_params_)\n",
        "print(grid_search.score(Z_test,target_test))"
      ],
      "outputs": [
        {
          "output_type": "stream",
          "name": "stdout",
          "text": [
            "0.9204466154919749\n",
            "{'C': 3, 'gamma': 'scale'}\n",
            "0.9037656903765691\n"
          ]
        }
      ],
      "execution_count": 35,
      "metadata": {}
    },
    {
      "cell_type": "code",
      "source": [
        "results(svm.SVC(3,gamma=\"scale\",probability=True))"
      ],
      "outputs": [
        {
          "output_type": "stream",
          "name": "stdout",
          "text": [
            " Training accuracy: 1.0\n",
            " Test accuracy: 0.9037656903765691\n"
          ]
        },
        {
          "output_type": "execute_result",
          "execution_count": 37,
          "data": {
            "text/html": [
              "<table border=\"1\" class=\"dataframe table table-responsive table-striped table-bordered\">\n",
              "  <thead>\n",
              "    <tr style=\"text-align: right;\">\n",
              "      <th></th>\n",
              "      <th>prediction</th>\n",
              "      <th>label</th>\n",
              "      <th>proba_lpt</th>\n",
              "      <th>title</th>\n",
              "      <th>num_comments</th>\n",
              "      <th>score</th>\n",
              "    </tr>\n",
              "  </thead>\n",
              "  <tbody>\n",
              "    <tr>\n",
              "      <th>419</th>\n",
              "      <td>LifeProTips</td>\n",
              "      <td>UnethicalLifeProTips</td>\n",
              "      <td>0.70</td>\n",
              "      <td>If you are faking injury make sure you fully commit to the role, be hurt and struggle with simple tasks even when there's no doubt that you aren't being watched. It will help you sell it when people are around and security cameras/wondering eyes can make or break your case.</td>\n",
              "      <td>469</td>\n",
              "      <td>18511</td>\n",
              "    </tr>\n",
              "    <tr>\n",
              "      <th>454</th>\n",
              "      <td>LifeProTips</td>\n",
              "      <td>UnethicalLifeProTips</td>\n",
              "      <td>0.97</td>\n",
              "      <td>As a parent of a baby, smell their diaper. If you DON?T smell poop, say, ?Woah, somebody has a poopy diaper. ? Then take them to the other room and pretend to change them. Then the next time they poop tell your spouse, ?It?s your turn. I changed them last time.?</td>\n",
              "      <td>733</td>\n",
              "      <td>38948</td>\n",
              "    </tr>\n",
              "  </tbody>\n",
              "</table>"
            ],
            "text/plain": [
              "<IPython.core.display.HTML object>"
            ]
          },
          "metadata": {}
        }
      ],
      "execution_count": 37,
      "metadata": {}
    },
    {
      "cell_type": "markdown",
      "source": [
        "Out of the box, SVC is not performant. I have to tune hyperparameters to improve the accuracy. Recall, if C is large, we do not regularize much (larger budget that the margin can be violated), leading to a more perfect classifier of our training data. Of course, there will be a trade off in overfitting and greater error due to higher variance. A smaller gamma helps with lower bias, by trading off with higher variance. Gamma = \"scale\", which uses `n_features` * `X.var()` tends to work well. "
      ],
      "metadata": {}
    },
    {
      "cell_type": "markdown",
      "source": [
        "<table class=\"table table-striped table-responsive table-bordered\">\n",
        "<thead>\n",
        "</thead>\n",
        "<tbody>\n",
        "    \n",
        "<tr>\n",
        "<td><b> Classification Model </b></td>\n",
        "<td><b> Training Accuracy % </b></td>\n",
        "<td><b> Test Accuracy % </b></td>\n",
        "</tr>\n",
        "\n",
        "<tr>\n",
        "<td><b>Baseline </b></td>\n",
        "<td> 0.5 </td>\n",
        "<td> 0.5 </td>\n",
        "</tr>   \n",
        "\n",
        "\n",
        "<tr>\n",
        "<td><b>Logistic </b></td>\n",
        "<td> 0.999 </td>\n",
        "<td> 0.895</td>\n",
        "</tr>   \n",
        "\n",
        "<tr>\n",
        "<td><b>Naive Bayes </b></td>\n",
        "<td> 0.995 </td>\n",
        "<td> 0.805 </td>\n",
        "</tr>  \n",
        "\n",
        "<tr>\n",
        "<td><b>Support Vector Machines </b></td>\n",
        "<td> 0.999 </td>\n",
        "<td> 0.903 </td>\n",
        "</tr>   \n",
        "\n",
        "</tbody>\n",
        "</table>"
      ],
      "metadata": {}
    },
    {
      "cell_type": "markdown",
      "source": [
        "Given these results, my selected production model will be the logistic regression model with CountVectorizer as the vectorizer. The Logistic Model is nearly the most performant, but also provides a high level of interpret-ability compared to SVM.\n",
        "\n",
        "In conclusion:\n",
        "\n",
        "* The more 'popular' i.e. more comments and score, the great likelihood that it is unethical. Controversial posts tend to gain more popularity.\n",
        " \n",
        "* In this training set, if your document includes the word 'business', then the likelihood of being unethical is far more likely by 3x. There's probably a lot of unethical comments around taking advantage of businesses!"
      ],
      "metadata": {}
    },
    {
      "cell_type": "markdown",
      "source": [
        "---\n",
        "### Wrap up"
      ],
      "metadata": {}
    },
    {
      "cell_type": "markdown",
      "source": [
        "I was able to create an app using Natural Language Processing to classify which subreddit a particular post belongs to.\n",
        "\n",
        "While this was a fun use case of NLP, this analysis is widely applicable other areas, such as politics in classifying fake news vs. real news, or for eCommerce, with sentiment analysis of user reviews (i.e. polarity classification - positive, negative of neutral). Further, many virtual assistants (Amazon Alexa, Google Assistant) use NLP to understand human questions and provide the appropriate responses.\n",
        "\n",
        "In these scenarios, there would be far greater consequences, if the prediction was a false-positive or false-negative, so fine tuning the model to adjust for these thresholds is critical.\n",
        "\n",
        "As a next step, I hope to investigate other NLP open source packages such as [Spacy](https://spacy.io/)!"
      ],
      "metadata": {}
    }
  ],
  "metadata": {
    "kernel_info": {
      "name": "python3"
    },
    "kernelspec": {
      "name": "python3",
      "language": "python",
      "display_name": "Python 3"
    },
    "language_info": {
      "name": "python",
      "version": "3.6.8",
      "mimetype": "text/x-python",
      "codemirror_mode": {
        "name": "ipython",
        "version": 3
      },
      "pygments_lexer": "ipython3",
      "nbconvert_exporter": "python",
      "file_extension": ".py"
    },
    "nteract": {
      "version": "0.14.3"
    },
    "toc": {
      "toc_position": {
        "height": "calc(100% - 180px)",
        "left": "10px",
        "top": "150px",
        "width": "287.988px"
      },
      "skip_h1_title": false,
      "number_sections": true,
      "title_cell": "Table of Contents",
      "toc_window_display": false,
      "base_numbering": 1,
      "toc_section_display": true,
      "title_sidebar": "Contents",
      "toc_cell": false,
      "nav_menu": {},
      "sideBar": true
    },
    "varInspector": {
      "cols": {
        "lenName": 16,
        "lenType": 16,
        "lenVar": 40
      },
      "kernels_config": {
        "python": {
          "delete_cmd_postfix": "",
          "delete_cmd_prefix": "del ",
          "library": "var_list.py",
          "varRefreshCmd": "print(var_dic_list())"
        },
        "r": {
          "delete_cmd_postfix": ") ",
          "delete_cmd_prefix": "rm(",
          "library": "var_list.r",
          "varRefreshCmd": "cat(var_dic_list()) "
        }
      },
      "types_to_exclude": [
        "module",
        "function",
        "builtin_function_or_method",
        "instance",
        "_Feature"
      ],
      "window_display": false
    }
  },
  "nbformat": 4,
  "nbformat_minor": 2
}