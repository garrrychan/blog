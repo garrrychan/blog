{
 "cells": [
  {
   "cell_type": "code",
   "execution_count": 1,
   "metadata": {},
   "outputs": [],
   "source": [
    "# Title: Lambdaa function for data wrangling\n",
    "# Date: 2019-03-28 3:00\n",
    "# Tags: python\n",
    "# Slug: Code Snippet"
   ]
  },
  {
   "cell_type": "markdown",
   "metadata": {},
   "source": [
    "You can throw compute at a problem, but it's probably best to write better code in general.\n",
    "\n",
    "Zen of Python.\n",
    "\"Sparse is better than dense.\" (Sparse in a diff sense, but still)\n",
    "Code that works is code that works.\n",
    "Simple is better than complex."
   ]
  },
  {
   "cell_type": "markdown",
   "metadata": {},
   "source": [
    "# Example 1 - Don't iterate through every row"
   ]
  },
  {
   "cell_type": "code",
   "execution_count": null,
   "metadata": {},
   "outputs": [],
   "source": [
    "%%time \n",
    "seed_and_names[\"final_four\"] = (seed_and_names[[\"team_id\",\"season\"]].\n",
    "                                apply(lambda seed_and_names: \n",
    "                                      is_final_four(seed_and_names[\"team_id\"],\n",
    "                                                    seed_and_names[\"season\"]),axis=1))"
   ]
  },
  {
   "cell_type": "code",
   "execution_count": 10,
   "metadata": {},
   "outputs": [
    {
     "name": "stdout",
     "output_type": "stream",
     "text": [
      "CPU times: user 3.86 s, sys: 39.5 ms, total: 3.9 s \n",
      " Wall time: 3.96 s\n"
     ]
    }
   ],
   "source": [
    "print(f'CPU times: user 3.86 s, sys: 39.5 ms, total: 3.9 s \\n Wall time: 3.96 s') # on 1000s"
   ]
  },
  {
   "cell_type": "markdown",
   "metadata": {},
   "source": [
    "# Vectorized solutions"
   ]
  },
  {
   "cell_type": "code",
   "execution_count": null,
   "metadata": {},
   "outputs": [],
   "source": [
    "%%time \n",
    "seed_and_names[\"final_four\"]=np.zeros(len(seed_and_names)) # zeros\n",
    "\n",
    "final_four_list = (list(zip(mm.query(\"final_four==1\").season,mm.query(\"final_four==1\").winning_team_id))+\n",
    "     list(zip(mm.query(\"final_four==1\").season,mm.query(\"final_four==1\").losing_team_id)))\n",
    "\n",
    "# fill in teams with 1 if final_four team\n",
    "for season, team_id in final_four_list:\n",
    "    seed_and_names[\"final_four\"]+=np.where((seed_and_names.season==season) & (seed_and_names.team_id==team_id),1,0)"
   ]
  },
  {
   "cell_type": "code",
   "execution_count": 11,
   "metadata": {},
   "outputs": [
    {
     "name": "stdout",
     "output_type": "stream",
     "text": [
      "CPU times: user 112 ms, sys: 4.93 ms, total: 117 ms \n",
      " Wall time: 116 ms\n"
     ]
    }
   ],
   "source": [
    "print(f'CPU times: user 112 ms, sys: 4.93 ms, total: 117 ms \\n Wall time: 116 ms')"
   ]
  },
  {
   "cell_type": "code",
   "execution_count": 17,
   "metadata": {},
   "outputs": [
    {
     "data": {
      "text/plain": [
       "'34.14x faster'"
      ]
     },
     "execution_count": 17,
     "metadata": {},
     "output_type": "execute_result"
    }
   ],
   "source": [
    "f' Using  {str(round(3.96*1000/116,2))}\"x faster\""
   ]
  },
  {
   "cell_type": "code",
   "execution_count": null,
   "metadata": {},
   "outputs": [],
   "source": [
    "# on 1000 rows, but more calculations\n",
    "# but I guess it's doing a lot of work to sum up"
   ]
  },
  {
   "cell_type": "code",
   "execution_count": 18,
   "metadata": {
    "scrolled": true
   },
   "outputs": [
    {
     "name": "stdout",
     "output_type": "stream",
     "text": [
      " CPU times: user 3min 15s, sys: 18.5 s, total: 3min 34s \n",
      " Wall time: 2min 15s\n"
     ]
    }
   ],
   "source": [
    "print(f' CPU times: user 3min 15s, sys: 18.5 s, total: 3min 34s \\n Wall time: 2min 15s')"
   ]
  },
  {
   "cell_type": "code",
   "execution_count": null,
   "metadata": {},
   "outputs": [],
   "source": []
  },
  {
   "cell_type": "code",
   "execution_count": null,
   "metadata": {},
   "outputs": [],
   "source": []
  },
  {
   "cell_type": "markdown",
   "metadata": {},
   "source": [
    "Why vectorized solutions are best , no pandas in for loops, don't make your soup too big! wow from 30 mins to 5 mins"
   ]
  },
  {
   "cell_type": "code",
   "execution_count": null,
   "metadata": {},
   "outputs": [],
   "source": [
    "Dask"
   ]
  },
  {
   "cell_type": "code",
   "execution_count": null,
   "metadata": {},
   "outputs": [],
   "source": [
    "# bad\n",
    "# Let's write a function to automate this for any team and season\n",
    "# Note, ran into error with Wichita St. since they were undefeated, \n",
    "# need to add try except clause, to avoid indexing issues\n",
    "\n",
    "def points_for(team_id, season):\n",
    "    '''This function generates the team's total points scored in a season.\n",
    "    points_for(1102,2003) >>> 1603'''\n",
    "    # points from winning games\n",
    "    try: \n",
    "        i = regular.groupby([\"season\",\"winning_team_id\"]).sum().query(f'winning_team_id=={team_id} & season=={season}').values[0][1]\n",
    "    except:\n",
    "        i = 0\n",
    "    # points from losing games\n",
    "    try:\n",
    "        j = regular.groupby([\"season\",\"losing_team_id\"]).sum().query(f'losing_team_id=={team_id} & season=={season}').values[0][3]\n",
    "    except:\n",
    "        j = 0\n",
    "    return i+j\n",
    "\n",
    "def points_against(team_id,season):\n",
    "    '''This function generates the team's points against in a season.\n",
    "    points_against(1102,2003) >> 1596'''\n",
    "    # points allowed from winning games\n",
    "    try:\n",
    "        i = regular.groupby([\"season\",\"winning_team_id\"]).sum().query(f'winning_team_id=={team_id} & season=={season}').values[0][3]\n",
    "    except:\n",
    "        i = 0\n",
    "    # points allowed from losing games\n",
    "    try:\n",
    "        j = regular.groupby([\"season\",\"losing_team_id\"]).sum().query(f'losing_team_id=={team_id} & season=={season}').values[0][2]\n",
    "    except:\n",
    "        j = 0\n",
    "    return i+j"
   ]
  },
  {
   "cell_type": "code",
   "execution_count": null,
   "metadata": {},
   "outputs": [],
   "source": [
    "# 2 mins 30 seconds \n",
    "%%time \n",
    "\n",
    "seed_and_names[\"points_for\"] = (seed_and_names[[\"team_id\",\"season\"]].\n",
    "                                apply(lambda seed_and_names: \n",
    "                                      points_for(seed_and_names[\"team_id\"],\n",
    "                                                    seed_and_names[\"season\"]),axis=1))\n",
    "\n",
    "seed_and_names[\"points_against\"] = (seed_and_names[[\"team_id\",\"season\"]].\n",
    "                                    apply(lambda seed_and_names: \n",
    "                                          points_against(seed_and_names[\"team_id\"],\n",
    "                                                         seed_and_names[\"season\"]),axis=1))"
   ]
  }
 ],
 "metadata": {
  "kernelspec": {
   "display_name": "Python 3",
   "language": "python",
   "name": "python3"
  },
  "language_info": {
   "codemirror_mode": {
    "name": "ipython",
    "version": 3
   },
   "file_extension": ".py",
   "mimetype": "text/x-python",
   "name": "python",
   "nbconvert_exporter": "python",
   "pygments_lexer": "ipython3",
   "version": "3.6.8"
  },
  "toc": {
   "base_numbering": 1,
   "nav_menu": {},
   "number_sections": true,
   "sideBar": true,
   "skip_h1_title": false,
   "title_cell": "Table of Contents",
   "title_sidebar": "Contents",
   "toc_cell": false,
   "toc_position": {},
   "toc_section_display": true,
   "toc_window_display": false
  },
  "varInspector": {
   "cols": {
    "lenName": 16,
    "lenType": 16,
    "lenVar": 40
   },
   "kernels_config": {
    "python": {
     "delete_cmd_postfix": "",
     "delete_cmd_prefix": "del ",
     "library": "var_list.py",
     "varRefreshCmd": "print(var_dic_list())"
    },
    "r": {
     "delete_cmd_postfix": ") ",
     "delete_cmd_prefix": "rm(",
     "library": "var_list.r",
     "varRefreshCmd": "cat(var_dic_list()) "
    }
   },
   "types_to_exclude": [
    "module",
    "function",
    "builtin_function_or_method",
    "instance",
    "_Feature"
   ],
   "window_display": false
  }
 },
 "nbformat": 4,
 "nbformat_minor": 2
}
