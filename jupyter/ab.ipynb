{
  "cells": [
    {
      "cell_type": "markdown",
      "source": [
        "Title: Are the Warriors better without Kevin Durant? \n",
        "Date: 2019-06-10 12:00\n",
        "Topic: Bayesian A/B Test\n",
        "Slug: ab"
      ],
      "metadata": {}
    },
    {
      "cell_type": "markdown",
      "source": [
        "In the media, there have been debates about whether or not the Golden State Warriors (GSW) are better without Kevin Durant (KD). From the eye-test, it's laughable to even suggest this, as he's one of the top 3 players in the league (Lebron, KD, Kawhi). Nonetheless, people argue that ball movement is better without him, and therefore make the GSW more lethal.\n",
        "\n",
        "But, just because the Warriors won a title without KD, that does not mean they don't need him more than ever. At the time of writing, the Toronto Raptors lead 3-1 in the Finals! #WeTheNorth 🦖🍁\n",
        "\n",
        "Using Bayesian estimation, we can A/B test this hypothesis, by comparing two treatment groups: games played with KD vs. without KD.\n",
        "\n",
        "Bayesian statistics are an excellent tool to reach for when sample sizes are small, as we can introduce explicit assumptions into the model, when there aren't thousands of observations. "
      ],
      "metadata": {}
    },
    {
      "cell_type": "markdown",
      "source": [
        "---\n",
        "\n",
        "### Primer on Bayesian Statistics\n",
        "\n",
        "<img src=\"images/dists.png\" class=\"img-responsive\">"
      ],
      "metadata": {}
    },
    {
      "cell_type": "markdown",
      "source": [
        "$$P\\left(model\\;|\\;data\\right) = \\frac{P\\left(data\\;|\\;model\\right)}{P(data)}\\; P\\left(model\\right)$$\n",
        "\n",
        "\n",
        "$$ \\text{prior} = P\\left(model\\right) $$\n",
        "> The **prior** is our belief in the model given no additional information. In our example, this is the mean win % with KD playing.\n",
        "<br>\n",
        "\n",
        "$$ \\text{likelihood} = P\\left(data\\;|\\;model\\right) $$\n",
        "> The **likelihood** is the probability of the data we observed occurring given the model.\n",
        "<br>\n",
        "\n",
        "$$ \\text{marginal probability of data} = P(data) $$\n",
        "> The **marginal probability** of the data is the probability that our data are observed regardless of what model we choose or believe in. \n",
        "<br>\n",
        "\n",
        "$$ \\text{posterior} = P\\left(model\\;|\\;data\\right) $$\n",
        "> The **posterior** is our _updated_ belief in the model given the new data we have observed. Bayesian statistics are all about updating a prior belief we have about the world with new data, so we're transforming our _prior_ belief into this new _posterior_ belief about the world. <br><br> In this example, this is the GSW mean winning % with KD playing, given the game logs from the past three seasons."
      ],
      "metadata": {}
    },
    {
      "cell_type": "markdown",
      "source": [
        "<br> Note, a Bayesian approach is different from a Frequentist's. Rather than only testing whether two groups are different, we instead pursue an estimate of _how_ different they are, from the posterior distribution."
      ],
      "metadata": {}
    },
    {
      "cell_type": "markdown",
      "source": [
        "#### Objective\n",
        "To calculate the distribution of the posterior probability of GSW mean winning % with KD and without KD.\n",
        "Moreover, we can calculate the _delta_ between both probabilities to determine if the mean is statistically different from zero (i.e. no difference with or without him).\n",
        "\n",
        "---"
      ],
      "metadata": {}
    },
    {
      "cell_type": "markdown",
      "source": [
        "#### Observed Data"
      ],
      "metadata": {}
    },
    {
      "cell_type": "code",
      "source": [
        "import pandas as pd\n",
        "import numpy as np\n",
        "import scipy.stats as stats\n",
        "import pymc3 as pm\n",
        "from IPython.display import HTML\n",
        "import matplotlib.pyplot as plt\n",
        "%matplotlib inline\n",
        "plt.style.use('fivethirtyeight')\n",
        "from IPython.core.pylabtools import figsize\n",
        "import warnings\n",
        "warnings.simplefilter(action='ignore', category=FutureWarning)"
      ],
      "outputs": [],
      "execution_count": 5,
      "metadata": {}
    },
    {
      "cell_type": "markdown",
      "source": [
        "As the competition is much higher in the playoffs, let's analyze playoff vs. regular Season data separately. We can run one test on the regular season, and one test for the playoffs.  \n",
        "\n",
        "Data is from [Basketball Reference](https://www.basketball-reference.com/)."
      ],
      "metadata": {}
    },
    {
      "cell_type": "markdown",
      "source": [
        "---\n",
        "### Regular Season"
      ],
      "metadata": {}
    },
    {
      "cell_type": "markdown",
      "source": [
        "<table class=\"table-responsive table-striped  table-bordered\">\n",
        " <thead>\n",
        "    <tr>\n",
        "      <th scope=\"col\">Regular Season</th>\n",
        "      <th scope=\"col\">With Kevin Durant</th>\n",
        "      <th scope=\"col\">No Kevin Durant</th>\n",
        "      <th scope=\"col\">Notes</th>\n",
        "    </tr>\n",
        "  </thead>\n",
        "  <tbody>\n",
        "    <tr>\n",
        "      <td>2019</td>\n",
        "      <td>0.69 <br> {'W': 54, 'L': 24} </td>\n",
        "      <td>0.75 <br> {'W': 3, 'L': 1} </td>\n",
        "      <td>Record is better when KD is out, but small sample size.</td>\n",
        "    </tr>\n",
        "    <tr>\n",
        "      <td>2018</td>\n",
        "      <td>0.72 <br> {'W': 49, 'L': 19} </td>\n",
        "      <td>0.64 <br> {'W': 9, 'L': 5} </td>\n",
        "      <td>Record is better when KD plays</td>\n",
        "    </tr>\n",
        "    <tr>\n",
        "      <td>2017</td>\n",
        "      <td>0.82 <br> {'W': 51, 'L': 11} </td>\n",
        "      <td>0.80 <br> {'W': 16, 'L': 4} </td>\n",
        "      <td>Record is better when KD plays</td>\n",
        "    </tr>\n",
        "    <tr>\n",
        "      <td>Total (3 seasons)</td>\n",
        "      <td>0.740 <br> {'W': 154, 'L': 54} </td>\n",
        "      <td>0.737 <br> {'W': 28, 'L': 10} </td>\n",
        "      <td>Record is better when KD plays</td>\n",
        "    </tr>\n",
        "  </tbody>\n",
        "</table>"
      ],
      "metadata": {}
    },
    {
      "cell_type": "markdown",
      "source": [
        "Over the last three seasons with the Warriors, KD has missed 38 games regular season games, and played in 208."
      ],
      "metadata": {}
    },
    {
      "cell_type": "code",
      "source": [
        "def occurrences(year, kd=True):\n",
        "    '''occurences(2019, kd=True)\n",
        "    By default, kd=True means with KD healthy'''\n",
        "    # clean data\n",
        "    # regular season\n",
        "    data = pd.read_csv(f'./data/ab/{year}.txt', sep=',')\n",
        "    new_columns = ['Rk', 'G', 'Date', 'Age', 'Tm', 'Away', 'Opp', 'Result', 'GS',\n",
        "       'MP', 'FG', 'FGA', 'FG%', '3P', '3PA', '3P%', 'FT', 'FTA', 'FT%', 'ORB',\n",
        "       'DRB', 'TRB', 'AST', 'STL', 'BLK', 'TOV', 'PF', 'PTS', 'GmSc', '+/-']\n",
        "    data.columns=new_columns\n",
        "    # replace did not dress with inactive\n",
        "    data.GS = np.where(data.GS == 'Did Not Dress','Inactive',data.GS)\n",
        "    if kd == False:\n",
        "        game_logs = list(data[data.GS=='Inactive'].Result)\n",
        "    else:\n",
        "        game_logs = list(data[data.GS!='Inactive'].Result)\n",
        "    results = [game.split(' ')[0] for game in game_logs]\n",
        "    occurrences = [1 if result == 'W' else 0 for result in results]\n",
        "    return occurrences"
      ],
      "outputs": [],
      "execution_count": 6,
      "metadata": {}
    },
    {
      "cell_type": "code",
      "source": [
        "regular_season_with_kd = occurrences(2019, kd=True)+occurrences(2018, kd=True)+occurrences(2017, kd=True)\n",
        "regular_season_no_kd = occurrences(2019, kd=False)+occurrences(2018, kd=False)+occurrences(2017, kd=False)\n",
        "print(f'Observed win % when Kevin Durant plays: {round(np.mean(regular_season_with_kd),4)}')\n",
        "print(f'Observed win % when Kevin Durant does not play: {round(np.mean(regular_season_no_kd),4)}')"
      ],
      "outputs": [
        {
          "output_type": "stream",
          "name": "stdout",
          "text": [
            "Observed win % when Kevin Durant plays: 0.7404\n",
            "Observed win % when Kevin Durant does not play: 0.7368\n"
          ]
        }
      ],
      "execution_count": 7,
      "metadata": {}
    },
    {
      "cell_type": "markdown",
      "source": [
        "* Note, we do not know the true win %, only the observed win %. We infer the true quantity from the observed data.\n",
        "\n",
        "* Notice the unequal sample sizes (208 vs. 38), but this is not problem in Bayesian analysis. We will see the uncertainty of the smaller sample size captured in the posterior distribution. "
      ],
      "metadata": {}
    },
    {
      "cell_type": "markdown",
      "source": [
        "---\n",
        "#### Bayesian Tests with MCMC\n",
        "\n",
        "* Markov Chain Monte Carlo (MCMC) is a method to find the posterior distribution of our parameter of interest.\n",
        "> This type of algorithm generates Monte Carlo simulations in a way that relies on the Markov property, then accepts these simulations at a certain rate to get the posterior distribution.\n",
        "\n",
        "* We will use [PyMC3](https://docs.pymc.io/), a probabilistic library for Python to generate MC simulations.\n",
        "\n",
        "* Before seeing any of the data, my prior is that GSW will win between 50% - 90% of their games, because they are an above average basketball team, and no team has ever won more than 72 games."
      ],
      "metadata": {}
    },
    {
      "cell_type": "code",
      "source": [
        "# Instantiate\n",
        "observations_A = regular_season_with_kd\n",
        "observations_B = regular_season_no_kd\n",
        "\n",
        "with pm.Model() as model:\n",
        "    # Assume Uniform priors for p_A and p_B    \n",
        "    p_A = pm.Uniform(\"p_A\", 0.5, .9)\n",
        "    p_B = pm.Uniform(\"p_B\", 0.5, .9)\n",
        "    \n",
        "    # Define the deterministic delta function. This is our unknown of interest.\n",
        "    # Delta is deterministic, no uncertainty beyond p_A and p_B\n",
        "    delta = pm.Deterministic(\"delta\", p_A - p_B)\n",
        "    \n",
        "    # We have two observation datasets: A, B\n",
        "    # Posterior distribution is Bernoulli\n",
        "    obs_A = pm.Bernoulli(\"obs_A\", p_A, observed=observations_A)\n",
        "    obs_B = pm.Bernoulli(\"obs_B\", p_B, observed=observations_B)\n",
        "    \n",
        "    # Draw samples from the posterior distribution\n",
        "    trace = pm.sample(20000)\n",
        "    burned_trace=trace[1000:]"
      ],
      "outputs": [
        {
          "output_type": "stream",
          "name": "stderr",
          "text": [
            "Auto-assigning NUTS sampler...\n",
            "Initializing NUTS using jitter+adapt_diag...\n",
            "Multiprocess sampling (2 chains in 2 jobs)\n",
            "NUTS: [p_B, p_A]\n",
            "Sampling 2 chains: 100%|██████████| 41000/41000 [00:21<00:00, 1899.05draws/s]\n"
          ]
        }
      ],
      "execution_count": 8,
      "metadata": {}
    },
    {
      "cell_type": "markdown",
      "source": [
        "* Using PyMC3, we generated a trace, or chain of values from the posterior distribution \n",
        "* Generated 20,000 samples from the posterior distribution (20,000 samples / chain / core)\n",
        "\n",
        "Because this algorithm needs to converge, we set a number of tuning steps (1,000) to occur first and where the algorithm should \"start exploring.\" It's good to see the Markov Chains overlap, which suggests convergence."
      ],
      "metadata": {}
    },
    {
      "cell_type": "markdown",
      "source": [
        "<img src=\"images/trace.svg\" class=\"img-responsive\">"
      ],
      "metadata": {}
    },
    {
      "cell_type": "code",
      "source": [
        "df = pm.summary(burned_trace).round(2)[['mean', 'sd', 'hpd_2.5', 'hpd_97.5']]\n",
        "HTML(df.to_html(classes=\"table table-responsive table-striped table-bordered\"))"
      ],
      "outputs": [
        {
          "output_type": "execute_result",
          "execution_count": 10,
          "data": {
            "text/html": [
              "<table border=\"1\" class=\"dataframe table table-responsive table-striped table-bordered\">\n",
              "  <thead>\n",
              "    <tr style=\"text-align: right;\">\n",
              "      <th></th>\n",
              "      <th>mean</th>\n",
              "      <th>sd</th>\n",
              "      <th>hpd_2.5</th>\n",
              "      <th>hpd_97.5</th>\n",
              "    </tr>\n",
              "  </thead>\n",
              "  <tbody>\n",
              "    <tr>\n",
              "      <th>p_A</th>\n",
              "      <td>0.74</td>\n",
              "      <td>0.03</td>\n",
              "      <td>0.68</td>\n",
              "      <td>0.80</td>\n",
              "    </tr>\n",
              "    <tr>\n",
              "      <th>p_B</th>\n",
              "      <td>0.73</td>\n",
              "      <td>0.07</td>\n",
              "      <td>0.59</td>\n",
              "      <td>0.85</td>\n",
              "    </tr>\n",
              "    <tr>\n",
              "      <th>delta</th>\n",
              "      <td>0.01</td>\n",
              "      <td>0.07</td>\n",
              "      <td>-0.13</td>\n",
              "      <td>0.16</td>\n",
              "    </tr>\n",
              "  </tbody>\n",
              "</table>"
            ],
            "text/plain": [
              "<IPython.core.display.HTML object>"
            ]
          },
          "metadata": {}
        }
      ],
      "execution_count": 10,
      "metadata": {}
    },
    {
      "cell_type": "markdown",
      "source": [
        "* Unlike with confidence intervals (frequentist), there is a measure of probability with the credible interval.\n",
        "* There is a 95% probability that the true win rate with KD is in the interval (0.68, 0.79).\n",
        "* There is a 95% probability that the true win rate with no KD is in the interval (0.59, 0.85)."
      ],
      "metadata": {}
    },
    {
      "cell_type": "markdown",
      "source": [
        "<img src=\"images/reg_season.svg\" class=\"img-responsive\">"
      ],
      "metadata": {
        "scrolled": true
      }
    },
    {
      "cell_type": "markdown",
      "source": [
        "Note, the 2.5% and 97.5% markers indicate the quantiles for the credible interval, similar to the confidence interval in frequentist statistics."
      ],
      "metadata": {}
    },
    {
      "cell_type": "markdown",
      "source": [
        "---\n",
        "#### Results\n",
        "\n",
        "* In the third graph, the posterior win rate is 1.2% higher when KD plays in the regular season.\n",
        "\n",
        "* Observe that because have less data for when KD is out, our posterior distribution of  $𝑝_𝐵$ is wider, implying we are less certain about the true value of $𝑝_𝐵$ than we are of $𝑝_𝐴$. The 95% credible interval is much wider for $𝑝_𝐵$, as there is a smaller sample size, for when KD did not play. We are less certain that the GSW wins 73% of the time without KD.\n",
        "\n",
        "* The difference in sample sizes ($N_B$ < $N_A$) naturally fits into Bayesian analysis, whereas you need the same populations for frequentist approach!"
      ],
      "metadata": {}
    },
    {
      "cell_type": "code",
      "source": [
        "# Count the number of samples less than 0, i.e. the area under the curve\n",
        "print(\"Probability that GSW is worse with Kevin Durant in the regular season: %.2f\" % \\\n",
        "    np.mean(delta_samples < 0))\n",
        "\n",
        "print(\"Probability that GSW is better with Kevin Durant in the regular season: %.2f\" % \\\n",
        "    np.mean(delta_samples > 0))"
      ],
      "outputs": [
        {
          "output_type": "stream",
          "name": "stdout",
          "text": [
            "Probability that GSW is worse with Kevin Durant in the regular season: 0.45\n",
            "Probability that GSW is better with Kevin Durant in the regular season: 0.55\n"
          ]
        }
      ],
      "execution_count": 12,
      "metadata": {}
    },
    {
      "cell_type": "markdown",
      "source": [
        "The probabilities are pretty close, so we can chalk this up to the Warriors having a experienced supporting cast. \n",
        "\n",
        "There is significant overlap between the distribution pf posterior $p_A$ and posterior of $p_B$, so one is not better than the other with high probability. The majority of the distribution of delta is around 0, so there is no statistically difference between the groups in the regular season.\n",
        "\n",
        "Ideally, we should perform more trials when KD is injured (as each data point for scenario B contributes more inferential power than each additional point for scenario A). One could do a similar analysis for when he played on the Oklahoma City Thunder."
      ],
      "metadata": {}
    },
    {
      "cell_type": "markdown",
      "source": [
        "---\n",
        "### Playoffs\n",
        "#### Do superstars shine when the stakes are highest?"
      ],
      "metadata": {}
    },
    {
      "cell_type": "markdown",
      "source": [
        "<table class=\"table-responsive table-striped  table-bordered\">\n",
        " <thead>\n",
        "    <tr>\n",
        "      <th scope=\"col\">Playoffs</th>\n",
        "      <th scope=\"col\">With Kevin Durant</th>\n",
        "      <th scope=\"col\">No Kevin Durant</th>\n",
        "      <th scope=\"col\">Notes</th>\n",
        "    </tr>\n",
        "  </thead>\n",
        "  <tbody>\n",
        "    <tr>\n",
        "      <td>2019</td>\n",
        "      <td>0.64 <br> {'W': 7, 'L': 4} </td>\n",
        "      <td>0.66 <br> {'W': 6, 'L': 3} </td>\n",
        "      <td>Record is marginally better when KD is out, but small sample size. Skewed by Portland series, which GSW won 4-0 with KD injured.</td>\n",
        "    </tr>\n",
        "    <tr>\n",
        "      <td>2018</td>\n",
        "      <td>0.76 <br> {'W': 16, 'L': 5} </td>\n",
        "      <td>n/a <br> {'W': 0, 'L': 0} </td>\n",
        "      <td>KD did not miss any games. Won Championship.</td>\n",
        "    </tr>\n",
        "    <tr>\n",
        "      <td>2017</td>\n",
        "      <td>0.82 <br> {'W': 14, 'L': 1} </td>\n",
        "      <td>1 <br> {'W': 2, 'L': 0}. Small sample size. </td>\n",
        "      <td>Won championship.</td>\n",
        "    </tr>\n",
        "      <td>Total (3 seasons)</td>\n",
        "      <td>0.79 <br> {'W': 37, 'L': 10} </td>\n",
        "      <td>0.73 <br> {'W': 8, 'L': 3} </td>\n",
        "      <td>Record is better when KD plays</td>\n",
        "  </tbody>\n",
        "</table>"
      ],
      "metadata": {}
    },
    {
      "cell_type": "code",
      "source": [
        "playoffs_with_kd = occurrences('2019_playoffs', kd=True)+occurrences('2018_playoffs', kd=True)+occurrences('2017_playoffs', kd=True)\n",
        "playoffs_no_kd = occurrences('2019_playoffs', kd=False)+occurrences('2018_playoffs', kd=False)+occurrences('2017_playoffs', kd=False)\n",
        "print(f'Observed win % when Kevin Durant plays: {round(np.mean(playoffs_with_kd),2)}')\n",
        "print(f'Observed win % when Kevin Durant does not play: {round(np.mean(playoffs_no_kd),2)}')"
      ],
      "outputs": [
        {
          "output_type": "stream",
          "name": "stdout",
          "text": [
            "Observed win % when Kevin Durant plays: 0.79\n",
            "Observed win % when Kevin Durant does not play: 0.73\n"
          ]
        }
      ],
      "execution_count": 13,
      "metadata": {}
    },
    {
      "cell_type": "markdown",
      "source": [
        "Over the last three playoff runs with the Warriors, KD has missed 11, and played in 47. By combining results from the past three seasons, we obtain a larger test group, which allows us to observe a real change vs. looking at the statistics for a single year. The difference is more pronounced across three seasons. \n",
        "\n",
        "Let's simulate to see investigate if GSW has a higher win % with KD in the playoffs. "
      ],
      "metadata": {}
    },
    {
      "cell_type": "code",
      "source": [
        "playoff_obs_A = playoffs_with_kd\n",
        "playoff_obs_B = playoffs_no_kd\n",
        "\n",
        "with pm.Model() as playoff_model:\n",
        "    playoff_p_A = pm.Uniform(\"playoff_p_A\", 0, 1)\n",
        "    playoff_p_B = pm.Uniform(\"playoff_p_B\", 0, 1)\n",
        "    \n",
        "    playoff_delta = pm.Deterministic(\"playoff_delta\", playoff_p_A - playoff_p_B)\n",
        "    \n",
        "    playoff_obs_A = pm.Bernoulli(\"playoff_obs_A\", playoff_p_A, observed=playoff_obs_A)\n",
        "    playoff_obs_B = pm.Bernoulli(\"playoff_obs_B\", playoff_p_B, observed=playoff_obs_B)\n",
        "\n",
        "    playoff_trace = pm.sample(20000)\n",
        "    playoff_burned_trace=playoff_trace[1000:]"
      ],
      "outputs": [
        {
          "output_type": "stream",
          "name": "stderr",
          "text": [
            "Auto-assigning NUTS sampler...\n",
            "Initializing NUTS using jitter+adapt_diag...\n",
            "Multiprocess sampling (2 chains in 2 jobs)\n",
            "NUTS: [playoff_p_B, playoff_p_A]\n",
            "Sampling 2 chains: 100%|██████████| 41000/41000 [00:23<00:00, 1709.99draws/s]\n"
          ]
        }
      ],
      "execution_count": 14,
      "metadata": {}
    },
    {
      "cell_type": "code",
      "source": [
        "df2 = pm.summary(playoff_burned_trace).round(2)[['mean', 'sd', 'hpd_2.5', 'hpd_97.5']]\n",
        "HTML(df2.to_html(classes=\"table table-responsive table-striped table-bordered\"))"
      ],
      "outputs": [
        {
          "output_type": "execute_result",
          "execution_count": 15,
          "data": {
            "text/html": [
              "<table border=\"1\" class=\"dataframe table table-responsive table-striped table-bordered\">\n",
              "  <thead>\n",
              "    <tr style=\"text-align: right;\">\n",
              "      <th></th>\n",
              "      <th>mean</th>\n",
              "      <th>sd</th>\n",
              "      <th>hpd_2.5</th>\n",
              "      <th>hpd_97.5</th>\n",
              "    </tr>\n",
              "  </thead>\n",
              "  <tbody>\n",
              "    <tr>\n",
              "      <th>playoff_p_A</th>\n",
              "      <td>0.78</td>\n",
              "      <td>0.06</td>\n",
              "      <td>0.66</td>\n",
              "      <td>0.88</td>\n",
              "    </tr>\n",
              "    <tr>\n",
              "      <th>playoff_p_B</th>\n",
              "      <td>0.69</td>\n",
              "      <td>0.12</td>\n",
              "      <td>0.46</td>\n",
              "      <td>0.92</td>\n",
              "    </tr>\n",
              "    <tr>\n",
              "      <th>playoff_delta</th>\n",
              "      <td>0.08</td>\n",
              "      <td>0.14</td>\n",
              "      <td>-0.17</td>\n",
              "      <td>0.36</td>\n",
              "    </tr>\n",
              "  </tbody>\n",
              "</table>"
            ],
            "text/plain": [
              "<IPython.core.display.HTML object>"
            ]
          },
          "metadata": {}
        }
      ],
      "execution_count": 15,
      "metadata": {
        "scrolled": true
      }
    },
    {
      "cell_type": "markdown",
      "source": [
        "<img src=\"images/playoffs.svg\" class=\"img-responsive\">"
      ],
      "metadata": {
        "scrolled": true
      }
    },
    {
      "cell_type": "code",
      "source": [
        "# Count the number of samples less than 0, i.e. the area under the curve\n",
        "print(\"Probability that GSW is worse with Kevin Durant in the playoffs: %.2f\" % \\\n",
        "    np.mean(playoff_delta_samples < 0))\n",
        "\n",
        "print(\"Probability that GSW is better with Kevin Durant in the playoffs: %.2f\" % \\\n",
        "    np.mean(playoff_delta_samples > 0))"
      ],
      "outputs": [
        {
          "output_type": "stream",
          "name": "stdout",
          "text": [
            "Probability that GSW is worse with Kevin Durant in the playoffs: 0.28\n",
            "Probability that GSW is better with Kevin Durant in the playoffs: 0.72\n"
          ]
        }
      ],
      "execution_count": 22,
      "metadata": {}
    },
    {
      "cell_type": "markdown",
      "source": [
        "---\n",
        "#### Are the Warriors better without Kevin Durant? \n",
        "\n",
        "No.\n",
        "\n",
        "We can see that while delta = 0 (i.e. no effect when KD plays) is in the credible interval at 95%, the majority of the distribution is above 0. This A/B test implies that the treatment group with KD, is likely better than the group without KD. In fact, the probability that GSW is better with Kevin Durant in the playoffs is 72%, a significant jump from 55% in the regular season! \n",
        "\n",
        "Superstars make a difference in the playoffs. The regular season is where you make your name, but the postseason is where you make your fame. The delta is 8% higher with KD. That's the advantage you gain with a player of his caliber, as he can hit clutch shots when it matters most."
      ],
      "metadata": {}
    },
    {
      "cell_type": "markdown",
      "source": [
        "#### References\n",
        "* [Significant Samples](https://multithreaded.stitchfix.com/blog/2015/05/26/significant-sample/)\n",
        "* [May Bayes Theorem Be With You](https://multithreaded.stitchfix.com/blog/2015/02/12/may-bayes-theorem-be-with-you/)"
      ],
      "metadata": {}
    }
  ],
  "metadata": {
    "kernel_info": {
      "name": "python3"
    },
    "kernelspec": {
      "name": "python3",
      "language": "python",
      "display_name": "Python 3"
    },
    "language_info": {
      "name": "python",
      "version": "3.6.8",
      "mimetype": "text/x-python",
      "codemirror_mode": {
        "name": "ipython",
        "version": 3
      },
      "pygments_lexer": "ipython3",
      "nbconvert_exporter": "python",
      "file_extension": ".py"
    },
    "nteract": {
      "version": "0.14.3"
    },
    "toc": {
      "toc_position": {
        "height": "calc(100% - 180px)",
        "left": "10px",
        "top": "150px",
        "width": "360px"
      },
      "skip_h1_title": false,
      "number_sections": true,
      "title_cell": "Table of Contents",
      "toc_window_display": true,
      "base_numbering": 1,
      "toc_section_display": true,
      "title_sidebar": "Contents",
      "toc_cell": false,
      "nav_menu": {},
      "sideBar": true
    },
    "varInspector": {
      "cols": {
        "lenName": 16,
        "lenType": 16,
        "lenVar": 40
      },
      "kernels_config": {
        "python": {
          "delete_cmd_postfix": "",
          "delete_cmd_prefix": "del ",
          "library": "var_list.py",
          "varRefreshCmd": "print(var_dic_list())"
        },
        "r": {
          "delete_cmd_postfix": ") ",
          "delete_cmd_prefix": "rm(",
          "library": "var_list.r",
          "varRefreshCmd": "cat(var_dic_list()) "
        }
      },
      "types_to_exclude": [
        "module",
        "function",
        "builtin_function_or_method",
        "instance",
        "_Feature"
      ],
      "window_display": false
    }
  },
  "nbformat": 4,
  "nbformat_minor": 2
}