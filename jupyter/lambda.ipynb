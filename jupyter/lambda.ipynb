{
 "cells": [
  {
   "cell_type": "markdown",
   "metadata": {},
   "source": [
    "Title: Lambda function for data wrangling\n",
    "Date: 2019-03-28 3:00\n",
    "Tags: python\n",
    "Slug: lambda"
   ]
  },
  {
   "cell_type": "markdown",
   "metadata": {},
   "source": [
    "Coming from a math background, to me, Lambda's represented the parameter in exponential distributions, eigenvalues in linear algebra, or in the context of AWS Lambda, a compute service for managing servers!\n",
    " \n",
    "\n",
    "Whereas in programming, by definition, Lambda is an *anonymous* function. This means that unlike normal functions definitions, Lambdas do not have a name.  Often, it's used as an argument for a higher-order function, and is lightweight in syntax, allowing your code to be less verbose, and easier to understand. \n",
    "\n",
    "\n",
    "For me, I choose to write a Lambda function over a named function, if it's a simple function that will only be used a few times, passed as an argument. \n",
    "<br>"
   ]
  },
  {
   "cell_type": "markdown",
   "metadata": {},
   "source": [
    "### Lambda functions in Python\n",
    "---\n",
    "\n",
    "Here's a simple function:\n",
    "\n",
    "```python\n",
    "def hello(name):\n",
    "    return f' Hello, my name is {name}'\n",
    "```\n",
    "\n",
    "And here is its `lambda` equivalent:\n",
    "\n",
    "```python\n",
    "lambda name: f' Hello, my name is {name}'\n",
    "```\n",
    "\n",
    "The primary differences between named and lambda functions are:\n",
    "\n",
    "1. `lambda` functions don't have a name\n",
    "\n",
    "2. `lambda` functions are written on one line\n",
    "\n",
    "3. `lambda` functions don't require a `return`. It's implied.\n",
    "<br>"
   ]
  },
  {
   "cell_type": "markdown",
   "metadata": {},
   "source": [
    "### Syntax\n",
    "---\n",
    "\n",
    "`lambda  `   `arguments:  ` `expression` \n",
    "\n",
    "Lambda functions can be used wherever function objects are required. A lambda function can take any number of arguments, but can only have one expression.  They can also be used anywhere ordinary functions can! \n",
    "<br>"
   ]
  },
  {
   "cell_type": "markdown",
   "metadata": {},
   "source": [
    "### Example 1\n",
    "---\n",
    "\n",
    "`lambda` is powerful when used in conjunction with a pandas data frame and `apply`.  Given that we're in the Sweet Sixteen of March madness, let's use NCAA data.\n",
    "<br>"
   ]
  },
  {
   "cell_type": "code",
   "execution_count": 3,
   "metadata": {},
   "outputs": [],
   "source": [
    "import pandas as pd\n",
    "from IPython.display import HTML\n",
    "\n",
    "df = pd.DataFrame({\n",
    "    'college': ['Duke', 'North Carolina', 'Virginia', 'Oregon'],\n",
    "    'seed': [1, 1, 1, 12],\n",
    "    'final_four_%': [55, 38, 53, 3]\n",
    "    })"
   ]
  },
  {
   "cell_type": "code",
   "execution_count": 4,
   "metadata": {},
   "outputs": [
    {
     "data": {
      "text/html": [
       "<table border=\"1\" class=\"dataframe table table-striped table-bordered\">\n",
       "  <thead>\n",
       "    <tr style=\"text-align: right;\">\n",
       "      <th></th>\n",
       "      <th>college</th>\n",
       "      <th>seed</th>\n",
       "      <th>final_four_%</th>\n",
       "    </tr>\n",
       "  </thead>\n",
       "  <tbody>\n",
       "    <tr>\n",
       "      <th>0</th>\n",
       "      <td>Duke</td>\n",
       "      <td>1</td>\n",
       "      <td>55</td>\n",
       "    </tr>\n",
       "    <tr>\n",
       "      <th>1</th>\n",
       "      <td>North Carolina</td>\n",
       "      <td>1</td>\n",
       "      <td>38</td>\n",
       "    </tr>\n",
       "    <tr>\n",
       "      <th>2</th>\n",
       "      <td>Virginia</td>\n",
       "      <td>1</td>\n",
       "      <td>53</td>\n",
       "    </tr>\n",
       "    <tr>\n",
       "      <th>3</th>\n",
       "      <td>Oregon</td>\n",
       "      <td>12</td>\n",
       "      <td>3</td>\n",
       "    </tr>\n",
       "  </tbody>\n",
       "</table>"
      ],
      "text/plain": [
       "<IPython.core.display.HTML object>"
      ]
     },
     "execution_count": 4,
     "metadata": {},
     "output_type": "execute_result"
    }
   ],
   "source": [
    "HTML(df.to_html(classes=\"table table-striped table-bordered\"))"
   ]
  },
  {
   "cell_type": "markdown",
   "metadata": {},
   "source": [
    "Let's add a new column, *upset*, identifying whether or not a college is the favourite or underdog, using a ```lambda``` function."
   ]
  },
  {
   "cell_type": "markdown",
   "metadata": {},
   "source": [
    "With ```lambda``` , we're able to quickly spin up a function that looks up if a seed is a favourite or an underdog. \n",
    "<br>"
   ]
  },
  {
   "cell_type": "code",
   "execution_count": null,
   "metadata": {},
   "outputs": [],
   "source": [
    "df[\"upset\"] = df.seed.apply(lambda x, lookup = {1: \"Favourite\", 12: \"Underdog\"} : lookup[x])"
   ]
  },
  {
   "cell_type": "code",
   "execution_count": null,
   "metadata": {},
   "outputs": [],
   "source": [
    "# Sort by probability of reaching final four\n",
    "HTML(df.sort_values(\"final_four_%\",ascending=False).to_html(classes=\"table table-striped table-bordered\"))"
   ]
  },
  {
   "cell_type": "markdown",
   "metadata": {},
   "source": [
    "### Example 2\n",
    "---\n",
    "Here's a sorting example."
   ]
  },
  {
   "cell_type": "code",
   "execution_count": null,
   "metadata": {},
   "outputs": [],
   "source": [
    "prospects = [\n",
    "    {'name':'Zion Williamson', 'weight': 280, 'rank': 1}, \n",
    "    {'name': 'Ja Morant', 'weight': 175, 'rank':2},\n",
    "    {'name': 'RJ Barrett', 'weight': 210, 'rank':3},\n",
    "    {'name':'Bol Bol', 'weight': 235, 'rank':18}]"
   ]
  },
  {
   "cell_type": "markdown",
   "metadata": {},
   "source": [
    "Let's figure out who the lightest prospect is, using ```sorted``` a Python method."
   ]
  },
  {
   "cell_type": "code",
   "execution_count": null,
   "metadata": {},
   "outputs": [],
   "source": [
    "sorted(prospects, key= lambda x: x['weight'])\n",
    "\n",
    "lightest_prospect = sorted(prospects, key= lambda x: x['weight'])[0][\"name\"]\n",
    "\n",
    "print(lightest_prospect)"
   ]
  },
  {
   "cell_type": "markdown",
   "metadata": {},
   "source": [
    "With ```lambda``` in our toolbelt, we'll have a function to write elegant and beautiful code for data wrangling. \n",
    "<br>"
   ]
  }
 ],
 "metadata": {
  "kernelspec": {
   "display_name": "Python 3",
   "language": "python",
   "name": "python3"
  },
  "language_info": {
   "codemirror_mode": {
    "name": "ipython",
    "version": 3
   },
   "file_extension": ".py",
   "mimetype": "text/x-python",
   "name": "python",
   "nbconvert_exporter": "python",
   "pygments_lexer": "ipython3",
   "version": "3.6.8"
  },
  "toc": {
   "base_numbering": 1,
   "nav_menu": {},
   "number_sections": true,
   "sideBar": true,
   "skip_h1_title": false,
   "title_cell": "Table of Contents",
   "title_sidebar": "Contents",
   "toc_cell": false,
   "toc_position": {},
   "toc_section_display": true,
   "toc_window_display": false
  },
  "varInspector": {
   "cols": {
    "lenName": 16,
    "lenType": 16,
    "lenVar": 40
   },
   "kernels_config": {
    "python": {
     "delete_cmd_postfix": "",
     "delete_cmd_prefix": "del ",
     "library": "var_list.py",
     "varRefreshCmd": "print(var_dic_list())"
    },
    "r": {
     "delete_cmd_postfix": ") ",
     "delete_cmd_prefix": "rm(",
     "library": "var_list.r",
     "varRefreshCmd": "cat(var_dic_list()) "
    }
   },
   "types_to_exclude": [
    "module",
    "function",
    "builtin_function_or_method",
    "instance",
    "_Feature"
   ],
   "window_display": false
  }
 },
 "nbformat": 4,
 "nbformat_minor": 2
}
